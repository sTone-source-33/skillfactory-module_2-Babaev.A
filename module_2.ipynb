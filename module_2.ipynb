{
 "cells": [
  {
   "cell_type": "code",
   "execution_count": 1,
   "metadata": {},
   "outputs": [],
   "source": [
    "import pandas as pd\n",
    "import matplotlib.pyplot as plt\n",
    "import seaborn as sns\n",
    "from itertools import combinations\n",
    "from scipy.stats import ttest_ind\n",
    "from statistics import mean\n",
    "import numpy as np\n",
    "pd.set_option('display.max_rows', 50)  # показывать больше строк\n",
    "pd.set_option('display.max_columns', 50)  # показывать больше колонок\n",
    "\n",
    "stud_math = pd.read_csv('stud_math.csv')"
   ]
  },
  {
   "cell_type": "markdown",
   "metadata": {},
   "source": [
    "## цели и задачи проекта"
   ]
  },
  {
   "cell_type": "markdown",
   "metadata": {},
   "source": [
    "* Суть проекта — отследить влияние условий жизни учащихся в возрасте от 15 до 22 лет на их успеваемость по математике, чтобы на ранней стадии выявлять студентов, находящихся в группе риска.\n",
    "\n",
    "* И сделать это можно с помощью модели, которая предсказывала бы результаты госэкзамена по математике для каждого ученика школы (вот она, сила ML!). Чтобы определиться с параметрами будущей модели, проведите разведывательный анализ данных и составьте отчёт по его результатам. "
   ]
  },
  {
   "cell_type": "markdown",
   "metadata": {},
   "source": [
    "## Первичный отсмотр данных"
   ]
  },
  {
   "cell_type": "markdown",
   "metadata": {},
   "source": [
    "Рассмотрим, какие данные хранятся в файле и какие типы данных у столбцов:"
   ]
  },
  {
   "cell_type": "code",
   "execution_count": 2,
   "metadata": {},
   "outputs": [
    {
     "data": {
      "text/html": [
       "<div>\n",
       "<style scoped>\n",
       "    .dataframe tbody tr th:only-of-type {\n",
       "        vertical-align: middle;\n",
       "    }\n",
       "\n",
       "    .dataframe tbody tr th {\n",
       "        vertical-align: top;\n",
       "    }\n",
       "\n",
       "    .dataframe thead th {\n",
       "        text-align: right;\n",
       "    }\n",
       "</style>\n",
       "<table border=\"1\" class=\"dataframe\">\n",
       "  <thead>\n",
       "    <tr style=\"text-align: right;\">\n",
       "      <th></th>\n",
       "      <th>school</th>\n",
       "      <th>sex</th>\n",
       "      <th>age</th>\n",
       "      <th>address</th>\n",
       "      <th>famsize</th>\n",
       "      <th>Pstatus</th>\n",
       "      <th>Medu</th>\n",
       "      <th>Fedu</th>\n",
       "      <th>Mjob</th>\n",
       "      <th>Fjob</th>\n",
       "      <th>reason</th>\n",
       "      <th>guardian</th>\n",
       "      <th>traveltime</th>\n",
       "      <th>studytime</th>\n",
       "      <th>failures</th>\n",
       "      <th>schoolsup</th>\n",
       "      <th>famsup</th>\n",
       "      <th>paid</th>\n",
       "      <th>activities</th>\n",
       "      <th>nursery</th>\n",
       "      <th>studytime, granular</th>\n",
       "      <th>higher</th>\n",
       "      <th>internet</th>\n",
       "      <th>romantic</th>\n",
       "      <th>famrel</th>\n",
       "      <th>freetime</th>\n",
       "      <th>goout</th>\n",
       "      <th>health</th>\n",
       "      <th>absences</th>\n",
       "      <th>score</th>\n",
       "    </tr>\n",
       "  </thead>\n",
       "  <tbody>\n",
       "    <tr>\n",
       "      <th>0</th>\n",
       "      <td>GP</td>\n",
       "      <td>F</td>\n",
       "      <td>18</td>\n",
       "      <td>U</td>\n",
       "      <td>NaN</td>\n",
       "      <td>A</td>\n",
       "      <td>4.0</td>\n",
       "      <td>4.0</td>\n",
       "      <td>at_home</td>\n",
       "      <td>teacher</td>\n",
       "      <td>course</td>\n",
       "      <td>mother</td>\n",
       "      <td>2.0</td>\n",
       "      <td>2.0</td>\n",
       "      <td>0.0</td>\n",
       "      <td>yes</td>\n",
       "      <td>no</td>\n",
       "      <td>no</td>\n",
       "      <td>no</td>\n",
       "      <td>yes</td>\n",
       "      <td>-6.0</td>\n",
       "      <td>yes</td>\n",
       "      <td>NaN</td>\n",
       "      <td>no</td>\n",
       "      <td>4.0</td>\n",
       "      <td>3.0</td>\n",
       "      <td>4.0</td>\n",
       "      <td>3.0</td>\n",
       "      <td>6.0</td>\n",
       "      <td>30.0</td>\n",
       "    </tr>\n",
       "    <tr>\n",
       "      <th>1</th>\n",
       "      <td>GP</td>\n",
       "      <td>F</td>\n",
       "      <td>17</td>\n",
       "      <td>U</td>\n",
       "      <td>GT3</td>\n",
       "      <td>NaN</td>\n",
       "      <td>1.0</td>\n",
       "      <td>1.0</td>\n",
       "      <td>at_home</td>\n",
       "      <td>other</td>\n",
       "      <td>course</td>\n",
       "      <td>father</td>\n",
       "      <td>1.0</td>\n",
       "      <td>2.0</td>\n",
       "      <td>0.0</td>\n",
       "      <td>no</td>\n",
       "      <td>yes</td>\n",
       "      <td>no</td>\n",
       "      <td>no</td>\n",
       "      <td>no</td>\n",
       "      <td>-6.0</td>\n",
       "      <td>yes</td>\n",
       "      <td>yes</td>\n",
       "      <td>no</td>\n",
       "      <td>5.0</td>\n",
       "      <td>3.0</td>\n",
       "      <td>3.0</td>\n",
       "      <td>3.0</td>\n",
       "      <td>4.0</td>\n",
       "      <td>30.0</td>\n",
       "    </tr>\n",
       "    <tr>\n",
       "      <th>2</th>\n",
       "      <td>GP</td>\n",
       "      <td>F</td>\n",
       "      <td>15</td>\n",
       "      <td>U</td>\n",
       "      <td>LE3</td>\n",
       "      <td>T</td>\n",
       "      <td>1.0</td>\n",
       "      <td>1.0</td>\n",
       "      <td>at_home</td>\n",
       "      <td>other</td>\n",
       "      <td>other</td>\n",
       "      <td>mother</td>\n",
       "      <td>1.0</td>\n",
       "      <td>2.0</td>\n",
       "      <td>3.0</td>\n",
       "      <td>yes</td>\n",
       "      <td>no</td>\n",
       "      <td>NaN</td>\n",
       "      <td>no</td>\n",
       "      <td>yes</td>\n",
       "      <td>-6.0</td>\n",
       "      <td>yes</td>\n",
       "      <td>yes</td>\n",
       "      <td>NaN</td>\n",
       "      <td>4.0</td>\n",
       "      <td>3.0</td>\n",
       "      <td>2.0</td>\n",
       "      <td>3.0</td>\n",
       "      <td>10.0</td>\n",
       "      <td>50.0</td>\n",
       "    </tr>\n",
       "    <tr>\n",
       "      <th>3</th>\n",
       "      <td>GP</td>\n",
       "      <td>F</td>\n",
       "      <td>15</td>\n",
       "      <td>U</td>\n",
       "      <td>GT3</td>\n",
       "      <td>T</td>\n",
       "      <td>4.0</td>\n",
       "      <td>2.0</td>\n",
       "      <td>health</td>\n",
       "      <td>NaN</td>\n",
       "      <td>home</td>\n",
       "      <td>mother</td>\n",
       "      <td>1.0</td>\n",
       "      <td>3.0</td>\n",
       "      <td>0.0</td>\n",
       "      <td>no</td>\n",
       "      <td>yes</td>\n",
       "      <td>yes</td>\n",
       "      <td>yes</td>\n",
       "      <td>yes</td>\n",
       "      <td>-9.0</td>\n",
       "      <td>yes</td>\n",
       "      <td>yes</td>\n",
       "      <td>yes</td>\n",
       "      <td>3.0</td>\n",
       "      <td>2.0</td>\n",
       "      <td>2.0</td>\n",
       "      <td>5.0</td>\n",
       "      <td>2.0</td>\n",
       "      <td>75.0</td>\n",
       "    </tr>\n",
       "    <tr>\n",
       "      <th>4</th>\n",
       "      <td>GP</td>\n",
       "      <td>F</td>\n",
       "      <td>16</td>\n",
       "      <td>U</td>\n",
       "      <td>GT3</td>\n",
       "      <td>T</td>\n",
       "      <td>3.0</td>\n",
       "      <td>3.0</td>\n",
       "      <td>other</td>\n",
       "      <td>other</td>\n",
       "      <td>home</td>\n",
       "      <td>father</td>\n",
       "      <td>1.0</td>\n",
       "      <td>2.0</td>\n",
       "      <td>0.0</td>\n",
       "      <td>no</td>\n",
       "      <td>yes</td>\n",
       "      <td>yes</td>\n",
       "      <td>no</td>\n",
       "      <td>yes</td>\n",
       "      <td>-6.0</td>\n",
       "      <td>yes</td>\n",
       "      <td>no</td>\n",
       "      <td>no</td>\n",
       "      <td>4.0</td>\n",
       "      <td>3.0</td>\n",
       "      <td>2.0</td>\n",
       "      <td>5.0</td>\n",
       "      <td>4.0</td>\n",
       "      <td>50.0</td>\n",
       "    </tr>\n",
       "    <tr>\n",
       "      <th>5</th>\n",
       "      <td>GP</td>\n",
       "      <td>M</td>\n",
       "      <td>16</td>\n",
       "      <td>U</td>\n",
       "      <td>LE3</td>\n",
       "      <td>T</td>\n",
       "      <td>4.0</td>\n",
       "      <td>3.0</td>\n",
       "      <td>services</td>\n",
       "      <td>other</td>\n",
       "      <td>reputation</td>\n",
       "      <td>mother</td>\n",
       "      <td>1.0</td>\n",
       "      <td>2.0</td>\n",
       "      <td>0.0</td>\n",
       "      <td>no</td>\n",
       "      <td>yes</td>\n",
       "      <td>yes</td>\n",
       "      <td>yes</td>\n",
       "      <td>yes</td>\n",
       "      <td>-6.0</td>\n",
       "      <td>yes</td>\n",
       "      <td>yes</td>\n",
       "      <td>no</td>\n",
       "      <td>5.0</td>\n",
       "      <td>4.0</td>\n",
       "      <td>2.0</td>\n",
       "      <td>5.0</td>\n",
       "      <td>10.0</td>\n",
       "      <td>75.0</td>\n",
       "    </tr>\n",
       "    <tr>\n",
       "      <th>6</th>\n",
       "      <td>GP</td>\n",
       "      <td>M</td>\n",
       "      <td>16</td>\n",
       "      <td>NaN</td>\n",
       "      <td>LE3</td>\n",
       "      <td>T</td>\n",
       "      <td>2.0</td>\n",
       "      <td>2.0</td>\n",
       "      <td>other</td>\n",
       "      <td>other</td>\n",
       "      <td>home</td>\n",
       "      <td>mother</td>\n",
       "      <td>1.0</td>\n",
       "      <td>2.0</td>\n",
       "      <td>0.0</td>\n",
       "      <td>no</td>\n",
       "      <td>no</td>\n",
       "      <td>no</td>\n",
       "      <td>no</td>\n",
       "      <td>yes</td>\n",
       "      <td>-6.0</td>\n",
       "      <td>yes</td>\n",
       "      <td>yes</td>\n",
       "      <td>no</td>\n",
       "      <td>4.0</td>\n",
       "      <td>4.0</td>\n",
       "      <td>4.0</td>\n",
       "      <td>3.0</td>\n",
       "      <td>0.0</td>\n",
       "      <td>55.0</td>\n",
       "    </tr>\n",
       "    <tr>\n",
       "      <th>7</th>\n",
       "      <td>GP</td>\n",
       "      <td>F</td>\n",
       "      <td>17</td>\n",
       "      <td>U</td>\n",
       "      <td>GT3</td>\n",
       "      <td>A</td>\n",
       "      <td>4.0</td>\n",
       "      <td>4.0</td>\n",
       "      <td>other</td>\n",
       "      <td>teacher</td>\n",
       "      <td>home</td>\n",
       "      <td>mother</td>\n",
       "      <td>2.0</td>\n",
       "      <td>2.0</td>\n",
       "      <td>0.0</td>\n",
       "      <td>yes</td>\n",
       "      <td>yes</td>\n",
       "      <td>no</td>\n",
       "      <td>no</td>\n",
       "      <td>yes</td>\n",
       "      <td>-6.0</td>\n",
       "      <td>yes</td>\n",
       "      <td>no</td>\n",
       "      <td>no</td>\n",
       "      <td>4.0</td>\n",
       "      <td>1.0</td>\n",
       "      <td>4.0</td>\n",
       "      <td>1.0</td>\n",
       "      <td>6.0</td>\n",
       "      <td>30.0</td>\n",
       "    </tr>\n",
       "    <tr>\n",
       "      <th>8</th>\n",
       "      <td>GP</td>\n",
       "      <td>M</td>\n",
       "      <td>15</td>\n",
       "      <td>U</td>\n",
       "      <td>LE3</td>\n",
       "      <td>A</td>\n",
       "      <td>3.0</td>\n",
       "      <td>2.0</td>\n",
       "      <td>services</td>\n",
       "      <td>other</td>\n",
       "      <td>home</td>\n",
       "      <td>mother</td>\n",
       "      <td>1.0</td>\n",
       "      <td>2.0</td>\n",
       "      <td>0.0</td>\n",
       "      <td>no</td>\n",
       "      <td>yes</td>\n",
       "      <td>yes</td>\n",
       "      <td>no</td>\n",
       "      <td>yes</td>\n",
       "      <td>-6.0</td>\n",
       "      <td>yes</td>\n",
       "      <td>yes</td>\n",
       "      <td>no</td>\n",
       "      <td>NaN</td>\n",
       "      <td>2.0</td>\n",
       "      <td>2.0</td>\n",
       "      <td>1.0</td>\n",
       "      <td>0.0</td>\n",
       "      <td>95.0</td>\n",
       "    </tr>\n",
       "    <tr>\n",
       "      <th>9</th>\n",
       "      <td>GP</td>\n",
       "      <td>M</td>\n",
       "      <td>15</td>\n",
       "      <td>U</td>\n",
       "      <td>NaN</td>\n",
       "      <td>NaN</td>\n",
       "      <td>3.0</td>\n",
       "      <td>4.0</td>\n",
       "      <td>other</td>\n",
       "      <td>other</td>\n",
       "      <td>home</td>\n",
       "      <td>mother</td>\n",
       "      <td>1.0</td>\n",
       "      <td>2.0</td>\n",
       "      <td>0.0</td>\n",
       "      <td>no</td>\n",
       "      <td>yes</td>\n",
       "      <td>yes</td>\n",
       "      <td>yes</td>\n",
       "      <td>yes</td>\n",
       "      <td>-6.0</td>\n",
       "      <td>yes</td>\n",
       "      <td>yes</td>\n",
       "      <td>no</td>\n",
       "      <td>5.0</td>\n",
       "      <td>5.0</td>\n",
       "      <td>1.0</td>\n",
       "      <td>5.0</td>\n",
       "      <td>0.0</td>\n",
       "      <td>75.0</td>\n",
       "    </tr>\n",
       "  </tbody>\n",
       "</table>\n",
       "</div>"
      ],
      "text/plain": [
       "  school sex  age address famsize Pstatus  Medu  Fedu      Mjob     Fjob  \\\n",
       "0     GP   F   18       U     NaN       A   4.0   4.0   at_home  teacher   \n",
       "1     GP   F   17       U     GT3     NaN   1.0   1.0   at_home    other   \n",
       "2     GP   F   15       U     LE3       T   1.0   1.0   at_home    other   \n",
       "3     GP   F   15       U     GT3       T   4.0   2.0    health      NaN   \n",
       "4     GP   F   16       U     GT3       T   3.0   3.0     other    other   \n",
       "5     GP   M   16       U     LE3       T   4.0   3.0  services    other   \n",
       "6     GP   M   16     NaN     LE3       T   2.0   2.0     other    other   \n",
       "7     GP   F   17       U     GT3       A   4.0   4.0     other  teacher   \n",
       "8     GP   M   15       U     LE3       A   3.0   2.0  services    other   \n",
       "9     GP   M   15       U     NaN     NaN   3.0   4.0     other    other   \n",
       "\n",
       "       reason guardian  traveltime  studytime  failures schoolsup famsup paid  \\\n",
       "0      course   mother         2.0        2.0       0.0       yes     no   no   \n",
       "1      course   father         1.0        2.0       0.0        no    yes   no   \n",
       "2       other   mother         1.0        2.0       3.0       yes     no  NaN   \n",
       "3        home   mother         1.0        3.0       0.0        no    yes  yes   \n",
       "4        home   father         1.0        2.0       0.0        no    yes  yes   \n",
       "5  reputation   mother         1.0        2.0       0.0        no    yes  yes   \n",
       "6        home   mother         1.0        2.0       0.0        no     no   no   \n",
       "7        home   mother         2.0        2.0       0.0       yes    yes   no   \n",
       "8        home   mother         1.0        2.0       0.0        no    yes  yes   \n",
       "9        home   mother         1.0        2.0       0.0        no    yes  yes   \n",
       "\n",
       "  activities nursery  studytime, granular higher internet romantic  famrel  \\\n",
       "0         no     yes                 -6.0    yes      NaN       no     4.0   \n",
       "1         no      no                 -6.0    yes      yes       no     5.0   \n",
       "2         no     yes                 -6.0    yes      yes      NaN     4.0   \n",
       "3        yes     yes                 -9.0    yes      yes      yes     3.0   \n",
       "4         no     yes                 -6.0    yes       no       no     4.0   \n",
       "5        yes     yes                 -6.0    yes      yes       no     5.0   \n",
       "6         no     yes                 -6.0    yes      yes       no     4.0   \n",
       "7         no     yes                 -6.0    yes       no       no     4.0   \n",
       "8         no     yes                 -6.0    yes      yes       no     NaN   \n",
       "9        yes     yes                 -6.0    yes      yes       no     5.0   \n",
       "\n",
       "   freetime  goout  health  absences  score  \n",
       "0       3.0    4.0     3.0       6.0   30.0  \n",
       "1       3.0    3.0     3.0       4.0   30.0  \n",
       "2       3.0    2.0     3.0      10.0   50.0  \n",
       "3       2.0    2.0     5.0       2.0   75.0  \n",
       "4       3.0    2.0     5.0       4.0   50.0  \n",
       "5       4.0    2.0     5.0      10.0   75.0  \n",
       "6       4.0    4.0     3.0       0.0   55.0  \n",
       "7       1.0    4.0     1.0       6.0   30.0  \n",
       "8       2.0    2.0     1.0       0.0   95.0  \n",
       "9       5.0    1.0     5.0       0.0   75.0  "
      ]
     },
     "metadata": {},
     "output_type": "display_data"
    },
    {
     "name": "stdout",
     "output_type": "stream",
     "text": [
      "<class 'pandas.core.frame.DataFrame'>\n",
      "RangeIndex: 395 entries, 0 to 394\n",
      "Data columns (total 30 columns):\n",
      " #   Column               Non-Null Count  Dtype  \n",
      "---  ------               --------------  -----  \n",
      " 0   school               395 non-null    object \n",
      " 1   sex                  395 non-null    object \n",
      " 2   age                  395 non-null    int64  \n",
      " 3   address              378 non-null    object \n",
      " 4   famsize              368 non-null    object \n",
      " 5   Pstatus              350 non-null    object \n",
      " 6   Medu                 392 non-null    float64\n",
      " 7   Fedu                 371 non-null    float64\n",
      " 8   Mjob                 376 non-null    object \n",
      " 9   Fjob                 359 non-null    object \n",
      " 10  reason               378 non-null    object \n",
      " 11  guardian             364 non-null    object \n",
      " 12  traveltime           367 non-null    float64\n",
      " 13  studytime            388 non-null    float64\n",
      " 14  failures             373 non-null    float64\n",
      " 15  schoolsup            386 non-null    object \n",
      " 16  famsup               356 non-null    object \n",
      " 17  paid                 355 non-null    object \n",
      " 18  activities           381 non-null    object \n",
      " 19  nursery              379 non-null    object \n",
      " 20  studytime, granular  388 non-null    float64\n",
      " 21  higher               375 non-null    object \n",
      " 22  internet             361 non-null    object \n",
      " 23  romantic             364 non-null    object \n",
      " 24  famrel               368 non-null    float64\n",
      " 25  freetime             384 non-null    float64\n",
      " 26  goout                387 non-null    float64\n",
      " 27  health               380 non-null    float64\n",
      " 28  absences             383 non-null    float64\n",
      " 29  score                389 non-null    float64\n",
      "dtypes: float64(12), int64(1), object(17)\n",
      "memory usage: 92.7+ KB\n"
     ]
    }
   ],
   "source": [
    "display(stud_math.head(10))\n",
    "stud_math.info()"
   ]
  },
  {
   "cell_type": "markdown",
   "metadata": {},
   "source": [
    "В датасете присутствует 395 строк и 30 столбцов из которых 13 столбцов числовые и 17 строковых"
   ]
  },
  {
   "cell_type": "markdown",
   "metadata": {},
   "source": [
    "Для удобства использования pandas напишем все столбцы с маленькой буквы:"
   ]
  },
  {
   "cell_type": "code",
   "execution_count": 3,
   "metadata": {},
   "outputs": [],
   "source": [
    "stud_math.columns = ['school', 'sex', 'age', 'address', 'famsize', 'pstatus', 'medu', 'fedu', 'mjob', 'fjob', 'reason',\n",
    "                     'guardian', 'traveltime', 'studytime', 'failures', 'schoolsup', 'famsup', 'paid', 'activities',\n",
    "                     'nursery', 'granular', 'higher', 'internet', 'romantic', 'famrel', 'freetime', 'goout', 'health',\n",
    "                     'absences', 'score']"
   ]
  },
  {
   "cell_type": "markdown",
   "metadata": {},
   "source": [
    "## Предобработка"
   ]
  },
  {
   "cell_type": "code",
   "execution_count": 4,
   "metadata": {},
   "outputs": [],
   "source": [
    "stud_math = stud_math[stud_math['score'] > 0]\n",
    "\n",
    "\n",
    "def no_nan(column):\n",
    "    \"\"\"Функция получает на вход имя столбца типа\n",
    "    \"object\" и заменяет все пропуски на nan \"\"\"\n",
    "    stud_math[column] = stud_math[column].astype(\n",
    "        str).apply(lambda x: None if x.strip() == '' else x)\n",
    "\n",
    "\n",
    "for col in list(stud_math.describe(include=['object']).columns):\n",
    "    no_nan(col)\n",
    "\n",
    "\n",
    "def func_counter(row, my_dict):\n",
    "    \"\"\"Функция получает на вход профессию, образование\n",
    "    и словарь с предположением о профессии и возвращает\n",
    "    более вероятное образование\"\"\"\n",
    "\n",
    "    if pd.isnull(row[0]):\n",
    "        return my_dict[row[1]]\n",
    "    else:\n",
    "        return row[0]\n",
    "\n",
    "\n",
    "def func_job(row):\n",
    "    \"\"\"Функция получает на вход профессию, образование\n",
    "    и возвращает более вероятную профессию\"\"\"\n",
    "\n",
    "    if row[0] == 'nan':\n",
    "        if row[1] <= 2.0:\n",
    "            return 'at_home'\n",
    "        elif row[1] <= 3.0:\n",
    "            return 'services'\n",
    "        elif row[1] <= 4.0:\n",
    "            return 'teacher'\n",
    "        elif pd.isnull(row[1]):\n",
    "            return 'other'\n",
    "    return row[0]\n",
    "\n",
    "\n",
    "def substitution_function(row, mean):\n",
    "    \"\"\"Функция получает на вход адрес проживания, за какой время\n",
    "    ученик добирается до школы и среднее время которое ученики тратят\n",
    "    на дорогу до школы. Функция возвращает место жительства.\"\"\"\n",
    "\n",
    "    if row[1] == 'nan':\n",
    "        if row[0] <= mean:\n",
    "            row[1] = 'U'\n",
    "        else:\n",
    "            row[1] = 'R'\n",
    "\n",
    "    return row[1]\n",
    "\n",
    "\n",
    "def famsize_function(row):\n",
    "    \"\"\"Функция получает на вход место проживания и состав семьи.\n",
    "    Функция возвращает предположительный состав семьи.\"\"\"\n",
    "    if row[1] == 'nan':\n",
    "        if row[0] == 'U':\n",
    "            return 'LE3'\n",
    "        elif row[0] == 'R':\n",
    "            return 'GT3'\n",
    "    return row[1]\n",
    "\n",
    "\n",
    "def famsize_traveltime(row):\n",
    "    \"\"\"Функция получает на вход место проживания и состав семьи.\n",
    "    Функция возвращает предположительный состав семьи.\"\"\"\n",
    "    if pd.isnull(row[1]):\n",
    "        if row[0] == 'U':\n",
    "            return 2.0\n",
    "        elif row[0] == 'R':\n",
    "            return 3.0\n",
    "    return row[1]\n",
    "\n",
    "\n",
    "def studytime_function(row):\n",
    "    \"\"\"Функция получает на вход состав семьи, удалённость от школы, и пол\n",
    "    функция возвращает предположительное время на учёбу после школы.\"\"\"\n",
    "    if pd.isnull(row[0]):\n",
    "        if (row[1] == 'GT3') & (row[2] == 'R') & (row[3] == 'F'):\n",
    "            return 4.0\n",
    "        elif (row[1] == 'GT3') & (row[2] == 'U') & (row[3] == 'F'):\n",
    "            return 4.0\n",
    "        elif (row[1] == 'LE3') & (row[2] == 'U') & (row[3] == 'F'):\n",
    "            return 3.0\n",
    "        elif (row[1] == 'LE3') & (row[2] == 'R') & (row[3] == 'F'):\n",
    "            return 3.0\n",
    "        elif ((row[1] == 'GT3') & (row[2] == 'R') & (row[3] == 'M')) or ((row[1] == 'LE3') & (row[2] == 'R') & (row[3] == 'M')):\n",
    "            return 2.0\n",
    "        else:\n",
    "            return 1.0\n",
    "    else:\n",
    "        return row[0]\n",
    "\n",
    "\n",
    "def failures_function(row):\n",
    "    \"\"\"Функция получает на вход время на учёбу после школы и количество неудач\n",
    "    функция возвращает предположительное оличество неудач.\"\"\"\n",
    "    if pd.isnull(row[0]):\n",
    "        if row[1] == 4.0:\n",
    "            return 0.0\n",
    "        elif row[1] == 3.0:\n",
    "            return 1.0\n",
    "        elif row[1] == 2.0:\n",
    "            return 2.0\n",
    "        elif row[1] == 1.0:\n",
    "            return 3.0\n",
    "    else:\n",
    "        return row[0]\n",
    "\n",
    "\n",
    "def higher_function(row):\n",
    "    \"\"\"Функция получает на вход желание получить высшее образование и наличие интернета\n",
    "    функция возвращает предположительное желание получить высшее образование.\"\"\"\n",
    "    if row[0] == 'nan':\n",
    "        if row[1] == 'yes':\n",
    "            return 'yes'\n",
    "        elif row[1] == 'no':\n",
    "            return 'no'\n",
    "    return row[0]\n",
    "\n",
    "\n",
    "def schoolsup_function(row):\n",
    "    \"\"\"Функция получает на вход желание получить высшее образование и дополнительную образовательную поддержку\n",
    "    функция возвращает предположительное желание получить дополнительную образовательную поддержку.\"\"\"\n",
    "    if row[0] == 'nan':\n",
    "        if row[1] == 'yes':\n",
    "            return 'no'\n",
    "        elif row[1] == 'no':\n",
    "            return 'yes'\n",
    "    return row[0]\n",
    "\n",
    "\n",
    "def famsup_function(row):\n",
    "    \"\"\"Функция получает на вход образование матери и дополнительную семейную образовательную поддержку\n",
    "    функция возвращает предположительное желание получить дополнительную семейную образовательную поддержку\"\"\"\n",
    "    if row[0] == 'nan':\n",
    "        if (row[1] == 4) or (row[1] == 3):\n",
    "            return 'yes'\n",
    "        elif (row[1] == 2) or (row[1] == 1) or (row[1] == 0):\n",
    "            return 'no'\n",
    "    return row[0]\n",
    "\n",
    "\n",
    "def paid_function(row):\n",
    "    \"\"\"Функция получает на вход работу матери и дополнительные занятия по математике\n",
    "    функция возвращает предположительное возможность занятия по математике.\"\"\"\n",
    "    if row[0] == 'nan':\n",
    "        if row[1] == 'services':\n",
    "            return 'yes'\n",
    "        elif row[1] == 'other':\n",
    "            return 'no'\n",
    "        elif row[1] == 'teacher':\n",
    "            return 'yes'\n",
    "        elif row[1] == 'at_home':\n",
    "            return 'no'\n",
    "        elif row[1] == 'health':\n",
    "            return 'no'\n",
    "    return row[0]\n",
    "\n",
    "\n",
    "def activities_function(row):\n",
    "    \"\"\"Функция получает на вход дополнительные внеучебные занятия и время учёбы помимо школы\n",
    "    функция возвращает предположительное возможность дополнительных внеучебных занятии.\"\"\"\n",
    "    if row[0] == 'nan':\n",
    "        if row[1] >= 2:\n",
    "            return 'yes'\n",
    "        elif row[1] <= 1:\n",
    "            return 'no'\n",
    "    return row[0]\n",
    "\n",
    "\n",
    "def nursery_function(row):\n",
    "    \"\"\"Функция получает на вход данные по детскому саду и состав семьи\n",
    "    функция возвращает предположительное посещение детского сада.\"\"\"\n",
    "    if row[0] == 'nan':\n",
    "        if row[1] == 'GT3':\n",
    "            return 'no'\n",
    "        elif row[1] == 'LE3':\n",
    "            return 'yes'\n",
    "    return row[0]\n",
    "\n",
    "\n",
    "def internet_function(row):\n",
    "    \"\"\"Функция получает на вход желание получить высшее образование и наличие интернета\n",
    "    функция возвращает предположительное наличие интернета\"\"\"\n",
    "    if row[0] == 'nan':\n",
    "        if row[1] == 'yes':\n",
    "            return 'yes'\n",
    "        elif row[1] == 'no':\n",
    "            return 'no'\n",
    "    return row[0]\n",
    "\n",
    "\n",
    "def romantic_function(row):\n",
    "    \"\"\"Функция получает на вход наличие романтических отношений и возраст\n",
    "    функция возвращает предположительное наличие романтических отношений.\"\"\"\n",
    "    if row[0] == 'nan':\n",
    "        if row[1] >= 17:\n",
    "            return 'yes'\n",
    "        elif row[1] <= 16:\n",
    "            return 'no'\n",
    "    return row[0]\n",
    "\n",
    "\n",
    "def pstatus_function(row):\n",
    "    \"\"\"Функция получает на вход статус совместного жилья и \n",
    "    статус отношений Функция возвращает предположительный статус семьи.\"\"\"\n",
    "    if row[0] == 'nan':\n",
    "        if row[1] > 2:\n",
    "            return 'T'\n",
    "        elif row[1] <= 2:\n",
    "            return 'A'\n",
    "    return row[0]\n",
    "\n",
    "\n",
    "def famrel_function(row):\n",
    "    \"\"\"Функция получает на вход семейные отношения и статус семьи\n",
    "    Функция возвращает предположительную оценку отношений.\"\"\"\n",
    "    if pd.isnull(row[0]):\n",
    "        if row[1] == 'T':\n",
    "            return 4.0\n",
    "        elif row[1] == 'A':\n",
    "            return 2.0\n",
    "    return row[0]\n",
    "\n",
    "\n",
    "def freetime_function(row):\n",
    "    \"\"\"Функция получает на вход свободное время после школы и время на учёбу помимо школы\n",
    "    Функция возвращает предположительное значение свободного времени после школы.\"\"\"\n",
    "    if pd.isnull(row[0]):\n",
    "        if row[1] == 4.0:\n",
    "            return 1.0\n",
    "        elif row[1] == 3.0:\n",
    "            return 2.0\n",
    "        elif row[1] == 2.0:\n",
    "            return 3.0\n",
    "        elif row[1] == 1.0:\n",
    "            return 4.0\n",
    "    return row[0]\n",
    "\n",
    "\n",
    "def goout_function(row):\n",
    "    \"\"\"Функция получает на вход свободное время после школы и время проведённое с друзьями\n",
    "    Функция возвращает предположительное значение времени проведённого с друзьями.\"\"\"\n",
    "    if pd.isnull(row[0]):\n",
    "        if row[1] == 1.0:\n",
    "            return 1.0\n",
    "        elif row[1] == 2.0:\n",
    "            return 2.0\n",
    "        elif row[1] == 3.0:\n",
    "            return 3.0\n",
    "        elif row[1] == 4.0:\n",
    "            return 4.0\n",
    "        elif row[1] == 5.0:\n",
    "            return 5.0\n",
    "    return row[0]\n",
    "\n",
    "\n",
    "def absences_function(row):\n",
    "    \"\"\"Возвращает среднее значение столбца\"\"\"\n",
    "    if pd.isnull(row):\n",
    "        return stud_math['absences'].median()\n",
    "    return row\n",
    "\n",
    "\n",
    "def reasen_function(row):\n",
    "    \"\"\"Функция получает на вход причину \n",
    "   и возвращает предположительный пердположительное значение.\"\"\"\n",
    "    if row == 'nan':\n",
    "        return 'course'\n",
    "    return row\n",
    "\n",
    "\n",
    "def guardian_function(row):\n",
    "    \"\"\"Функция получает на вход опекуна \n",
    "   и возвращает предположительный пердположительное значение.\"\"\"\n",
    "    if row == 'nan':\n",
    "        return 'mother'\n",
    "    return row\n",
    "\n",
    "\n",
    "def get_boxplot(column):\n",
    "    fig, ax = plt.subplots(figsize=(5, 4))\n",
    "    sns.boxplot(x=column, y='score',\n",
    "                data=stud_math.loc[stud_math.loc[:, column].isin(\n",
    "                    stud_math.loc[:, column].value_counts().index[:10])],\n",
    "                ax=ax)\n",
    "    plt.xticks(rotation=45)\n",
    "    ax.set_title('Boxplot for ' + column)\n",
    "    plt.show()\n",
    "\n",
    "\n",
    "def get_stat_dif(column):\n",
    "    cols = stud_math.loc[:, column].value_counts().index[:40]\n",
    "    combinations_all = list(combinations(cols, 2))\n",
    "    for comb in combinations_all:\n",
    "        if ttest_ind(stud_math.loc[stud_math.loc[:, column] == comb[0], 'score'],\n",
    "                     stud_math.loc[stud_math.loc[:, column] == comb[1], 'score']).pvalue \\\n",
    "                <= 0.05/len(combinations_all):  # Учли поправку Бонферони\n",
    "            print('Найдены статистически значимые различия для колонки', column)\n",
    "            break"
   ]
  },
  {
   "cell_type": "markdown",
   "metadata": {},
   "source": [
    "## Первичный анализ данных в столбцах"
   ]
  },
  {
   "cell_type": "code",
   "execution_count": 5,
   "metadata": {},
   "outputs": [
    {
     "data": {
      "text/html": [
       "<div>\n",
       "<style scoped>\n",
       "    .dataframe tbody tr th:only-of-type {\n",
       "        vertical-align: middle;\n",
       "    }\n",
       "\n",
       "    .dataframe tbody tr th {\n",
       "        vertical-align: top;\n",
       "    }\n",
       "\n",
       "    .dataframe thead th {\n",
       "        text-align: right;\n",
       "    }\n",
       "</style>\n",
       "<table border=\"1\" class=\"dataframe\">\n",
       "  <thead>\n",
       "    <tr style=\"text-align: right;\">\n",
       "      <th></th>\n",
       "      <th>school</th>\n",
       "      <th>sex</th>\n",
       "      <th>age</th>\n",
       "      <th>address</th>\n",
       "      <th>famsize</th>\n",
       "      <th>pstatus</th>\n",
       "      <th>medu</th>\n",
       "      <th>fedu</th>\n",
       "      <th>mjob</th>\n",
       "      <th>fjob</th>\n",
       "      <th>reason</th>\n",
       "      <th>guardian</th>\n",
       "      <th>traveltime</th>\n",
       "      <th>studytime</th>\n",
       "      <th>failures</th>\n",
       "      <th>schoolsup</th>\n",
       "      <th>famsup</th>\n",
       "      <th>paid</th>\n",
       "      <th>activities</th>\n",
       "      <th>nursery</th>\n",
       "      <th>granular</th>\n",
       "      <th>higher</th>\n",
       "      <th>internet</th>\n",
       "      <th>romantic</th>\n",
       "      <th>famrel</th>\n",
       "      <th>freetime</th>\n",
       "      <th>goout</th>\n",
       "      <th>health</th>\n",
       "      <th>absences</th>\n",
       "      <th>score</th>\n",
       "    </tr>\n",
       "  </thead>\n",
       "  <tbody>\n",
       "    <tr>\n",
       "      <th>0</th>\n",
       "      <td>GP</td>\n",
       "      <td>F</td>\n",
       "      <td>18</td>\n",
       "      <td>U</td>\n",
       "      <td>nan</td>\n",
       "      <td>A</td>\n",
       "      <td>4.0</td>\n",
       "      <td>4.0</td>\n",
       "      <td>at_home</td>\n",
       "      <td>teacher</td>\n",
       "      <td>course</td>\n",
       "      <td>mother</td>\n",
       "      <td>2.0</td>\n",
       "      <td>2.0</td>\n",
       "      <td>0.0</td>\n",
       "      <td>yes</td>\n",
       "      <td>no</td>\n",
       "      <td>no</td>\n",
       "      <td>no</td>\n",
       "      <td>yes</td>\n",
       "      <td>-6.0</td>\n",
       "      <td>yes</td>\n",
       "      <td>nan</td>\n",
       "      <td>no</td>\n",
       "      <td>4.0</td>\n",
       "      <td>3.0</td>\n",
       "      <td>4.0</td>\n",
       "      <td>3.0</td>\n",
       "      <td>6.0</td>\n",
       "      <td>30.0</td>\n",
       "    </tr>\n",
       "    <tr>\n",
       "      <th>1</th>\n",
       "      <td>GP</td>\n",
       "      <td>F</td>\n",
       "      <td>17</td>\n",
       "      <td>U</td>\n",
       "      <td>GT3</td>\n",
       "      <td>nan</td>\n",
       "      <td>1.0</td>\n",
       "      <td>1.0</td>\n",
       "      <td>at_home</td>\n",
       "      <td>other</td>\n",
       "      <td>course</td>\n",
       "      <td>father</td>\n",
       "      <td>1.0</td>\n",
       "      <td>2.0</td>\n",
       "      <td>0.0</td>\n",
       "      <td>no</td>\n",
       "      <td>yes</td>\n",
       "      <td>no</td>\n",
       "      <td>no</td>\n",
       "      <td>no</td>\n",
       "      <td>-6.0</td>\n",
       "      <td>yes</td>\n",
       "      <td>yes</td>\n",
       "      <td>no</td>\n",
       "      <td>5.0</td>\n",
       "      <td>3.0</td>\n",
       "      <td>3.0</td>\n",
       "      <td>3.0</td>\n",
       "      <td>4.0</td>\n",
       "      <td>30.0</td>\n",
       "    </tr>\n",
       "    <tr>\n",
       "      <th>2</th>\n",
       "      <td>GP</td>\n",
       "      <td>F</td>\n",
       "      <td>15</td>\n",
       "      <td>U</td>\n",
       "      <td>LE3</td>\n",
       "      <td>T</td>\n",
       "      <td>1.0</td>\n",
       "      <td>1.0</td>\n",
       "      <td>at_home</td>\n",
       "      <td>other</td>\n",
       "      <td>other</td>\n",
       "      <td>mother</td>\n",
       "      <td>1.0</td>\n",
       "      <td>2.0</td>\n",
       "      <td>3.0</td>\n",
       "      <td>yes</td>\n",
       "      <td>no</td>\n",
       "      <td>nan</td>\n",
       "      <td>no</td>\n",
       "      <td>yes</td>\n",
       "      <td>-6.0</td>\n",
       "      <td>yes</td>\n",
       "      <td>yes</td>\n",
       "      <td>nan</td>\n",
       "      <td>4.0</td>\n",
       "      <td>3.0</td>\n",
       "      <td>2.0</td>\n",
       "      <td>3.0</td>\n",
       "      <td>10.0</td>\n",
       "      <td>50.0</td>\n",
       "    </tr>\n",
       "    <tr>\n",
       "      <th>3</th>\n",
       "      <td>GP</td>\n",
       "      <td>F</td>\n",
       "      <td>15</td>\n",
       "      <td>U</td>\n",
       "      <td>GT3</td>\n",
       "      <td>T</td>\n",
       "      <td>4.0</td>\n",
       "      <td>2.0</td>\n",
       "      <td>health</td>\n",
       "      <td>nan</td>\n",
       "      <td>home</td>\n",
       "      <td>mother</td>\n",
       "      <td>1.0</td>\n",
       "      <td>3.0</td>\n",
       "      <td>0.0</td>\n",
       "      <td>no</td>\n",
       "      <td>yes</td>\n",
       "      <td>yes</td>\n",
       "      <td>yes</td>\n",
       "      <td>yes</td>\n",
       "      <td>-9.0</td>\n",
       "      <td>yes</td>\n",
       "      <td>yes</td>\n",
       "      <td>yes</td>\n",
       "      <td>3.0</td>\n",
       "      <td>2.0</td>\n",
       "      <td>2.0</td>\n",
       "      <td>5.0</td>\n",
       "      <td>2.0</td>\n",
       "      <td>75.0</td>\n",
       "    </tr>\n",
       "    <tr>\n",
       "      <th>4</th>\n",
       "      <td>GP</td>\n",
       "      <td>F</td>\n",
       "      <td>16</td>\n",
       "      <td>U</td>\n",
       "      <td>GT3</td>\n",
       "      <td>T</td>\n",
       "      <td>3.0</td>\n",
       "      <td>3.0</td>\n",
       "      <td>other</td>\n",
       "      <td>other</td>\n",
       "      <td>home</td>\n",
       "      <td>father</td>\n",
       "      <td>1.0</td>\n",
       "      <td>2.0</td>\n",
       "      <td>0.0</td>\n",
       "      <td>no</td>\n",
       "      <td>yes</td>\n",
       "      <td>yes</td>\n",
       "      <td>no</td>\n",
       "      <td>yes</td>\n",
       "      <td>-6.0</td>\n",
       "      <td>yes</td>\n",
       "      <td>no</td>\n",
       "      <td>no</td>\n",
       "      <td>4.0</td>\n",
       "      <td>3.0</td>\n",
       "      <td>2.0</td>\n",
       "      <td>5.0</td>\n",
       "      <td>4.0</td>\n",
       "      <td>50.0</td>\n",
       "    </tr>\n",
       "    <tr>\n",
       "      <th>5</th>\n",
       "      <td>GP</td>\n",
       "      <td>M</td>\n",
       "      <td>16</td>\n",
       "      <td>U</td>\n",
       "      <td>LE3</td>\n",
       "      <td>T</td>\n",
       "      <td>4.0</td>\n",
       "      <td>3.0</td>\n",
       "      <td>services</td>\n",
       "      <td>other</td>\n",
       "      <td>reputation</td>\n",
       "      <td>mother</td>\n",
       "      <td>1.0</td>\n",
       "      <td>2.0</td>\n",
       "      <td>0.0</td>\n",
       "      <td>no</td>\n",
       "      <td>yes</td>\n",
       "      <td>yes</td>\n",
       "      <td>yes</td>\n",
       "      <td>yes</td>\n",
       "      <td>-6.0</td>\n",
       "      <td>yes</td>\n",
       "      <td>yes</td>\n",
       "      <td>no</td>\n",
       "      <td>5.0</td>\n",
       "      <td>4.0</td>\n",
       "      <td>2.0</td>\n",
       "      <td>5.0</td>\n",
       "      <td>10.0</td>\n",
       "      <td>75.0</td>\n",
       "    </tr>\n",
       "    <tr>\n",
       "      <th>6</th>\n",
       "      <td>GP</td>\n",
       "      <td>M</td>\n",
       "      <td>16</td>\n",
       "      <td>nan</td>\n",
       "      <td>LE3</td>\n",
       "      <td>T</td>\n",
       "      <td>2.0</td>\n",
       "      <td>2.0</td>\n",
       "      <td>other</td>\n",
       "      <td>other</td>\n",
       "      <td>home</td>\n",
       "      <td>mother</td>\n",
       "      <td>1.0</td>\n",
       "      <td>2.0</td>\n",
       "      <td>0.0</td>\n",
       "      <td>no</td>\n",
       "      <td>no</td>\n",
       "      <td>no</td>\n",
       "      <td>no</td>\n",
       "      <td>yes</td>\n",
       "      <td>-6.0</td>\n",
       "      <td>yes</td>\n",
       "      <td>yes</td>\n",
       "      <td>no</td>\n",
       "      <td>4.0</td>\n",
       "      <td>4.0</td>\n",
       "      <td>4.0</td>\n",
       "      <td>3.0</td>\n",
       "      <td>0.0</td>\n",
       "      <td>55.0</td>\n",
       "    </tr>\n",
       "    <tr>\n",
       "      <th>7</th>\n",
       "      <td>GP</td>\n",
       "      <td>F</td>\n",
       "      <td>17</td>\n",
       "      <td>U</td>\n",
       "      <td>GT3</td>\n",
       "      <td>A</td>\n",
       "      <td>4.0</td>\n",
       "      <td>4.0</td>\n",
       "      <td>other</td>\n",
       "      <td>teacher</td>\n",
       "      <td>home</td>\n",
       "      <td>mother</td>\n",
       "      <td>2.0</td>\n",
       "      <td>2.0</td>\n",
       "      <td>0.0</td>\n",
       "      <td>yes</td>\n",
       "      <td>yes</td>\n",
       "      <td>no</td>\n",
       "      <td>no</td>\n",
       "      <td>yes</td>\n",
       "      <td>-6.0</td>\n",
       "      <td>yes</td>\n",
       "      <td>no</td>\n",
       "      <td>no</td>\n",
       "      <td>4.0</td>\n",
       "      <td>1.0</td>\n",
       "      <td>4.0</td>\n",
       "      <td>1.0</td>\n",
       "      <td>6.0</td>\n",
       "      <td>30.0</td>\n",
       "    </tr>\n",
       "    <tr>\n",
       "      <th>8</th>\n",
       "      <td>GP</td>\n",
       "      <td>M</td>\n",
       "      <td>15</td>\n",
       "      <td>U</td>\n",
       "      <td>LE3</td>\n",
       "      <td>A</td>\n",
       "      <td>3.0</td>\n",
       "      <td>2.0</td>\n",
       "      <td>services</td>\n",
       "      <td>other</td>\n",
       "      <td>home</td>\n",
       "      <td>mother</td>\n",
       "      <td>1.0</td>\n",
       "      <td>2.0</td>\n",
       "      <td>0.0</td>\n",
       "      <td>no</td>\n",
       "      <td>yes</td>\n",
       "      <td>yes</td>\n",
       "      <td>no</td>\n",
       "      <td>yes</td>\n",
       "      <td>-6.0</td>\n",
       "      <td>yes</td>\n",
       "      <td>yes</td>\n",
       "      <td>no</td>\n",
       "      <td>NaN</td>\n",
       "      <td>2.0</td>\n",
       "      <td>2.0</td>\n",
       "      <td>1.0</td>\n",
       "      <td>0.0</td>\n",
       "      <td>95.0</td>\n",
       "    </tr>\n",
       "    <tr>\n",
       "      <th>9</th>\n",
       "      <td>GP</td>\n",
       "      <td>M</td>\n",
       "      <td>15</td>\n",
       "      <td>U</td>\n",
       "      <td>nan</td>\n",
       "      <td>nan</td>\n",
       "      <td>3.0</td>\n",
       "      <td>4.0</td>\n",
       "      <td>other</td>\n",
       "      <td>other</td>\n",
       "      <td>home</td>\n",
       "      <td>mother</td>\n",
       "      <td>1.0</td>\n",
       "      <td>2.0</td>\n",
       "      <td>0.0</td>\n",
       "      <td>no</td>\n",
       "      <td>yes</td>\n",
       "      <td>yes</td>\n",
       "      <td>yes</td>\n",
       "      <td>yes</td>\n",
       "      <td>-6.0</td>\n",
       "      <td>yes</td>\n",
       "      <td>yes</td>\n",
       "      <td>no</td>\n",
       "      <td>5.0</td>\n",
       "      <td>5.0</td>\n",
       "      <td>1.0</td>\n",
       "      <td>5.0</td>\n",
       "      <td>0.0</td>\n",
       "      <td>75.0</td>\n",
       "    </tr>\n",
       "  </tbody>\n",
       "</table>\n",
       "</div>"
      ],
      "text/plain": [
       "  school sex  age address famsize pstatus  medu  fedu      mjob     fjob  \\\n",
       "0     GP   F   18       U     nan       A   4.0   4.0   at_home  teacher   \n",
       "1     GP   F   17       U     GT3     nan   1.0   1.0   at_home    other   \n",
       "2     GP   F   15       U     LE3       T   1.0   1.0   at_home    other   \n",
       "3     GP   F   15       U     GT3       T   4.0   2.0    health      nan   \n",
       "4     GP   F   16       U     GT3       T   3.0   3.0     other    other   \n",
       "5     GP   M   16       U     LE3       T   4.0   3.0  services    other   \n",
       "6     GP   M   16     nan     LE3       T   2.0   2.0     other    other   \n",
       "7     GP   F   17       U     GT3       A   4.0   4.0     other  teacher   \n",
       "8     GP   M   15       U     LE3       A   3.0   2.0  services    other   \n",
       "9     GP   M   15       U     nan     nan   3.0   4.0     other    other   \n",
       "\n",
       "       reason guardian  traveltime  studytime  failures schoolsup famsup paid  \\\n",
       "0      course   mother         2.0        2.0       0.0       yes     no   no   \n",
       "1      course   father         1.0        2.0       0.0        no    yes   no   \n",
       "2       other   mother         1.0        2.0       3.0       yes     no  nan   \n",
       "3        home   mother         1.0        3.0       0.0        no    yes  yes   \n",
       "4        home   father         1.0        2.0       0.0        no    yes  yes   \n",
       "5  reputation   mother         1.0        2.0       0.0        no    yes  yes   \n",
       "6        home   mother         1.0        2.0       0.0        no     no   no   \n",
       "7        home   mother         2.0        2.0       0.0       yes    yes   no   \n",
       "8        home   mother         1.0        2.0       0.0        no    yes  yes   \n",
       "9        home   mother         1.0        2.0       0.0        no    yes  yes   \n",
       "\n",
       "  activities nursery  granular higher internet romantic  famrel  freetime  \\\n",
       "0         no     yes      -6.0    yes      nan       no     4.0       3.0   \n",
       "1         no      no      -6.0    yes      yes       no     5.0       3.0   \n",
       "2         no     yes      -6.0    yes      yes      nan     4.0       3.0   \n",
       "3        yes     yes      -9.0    yes      yes      yes     3.0       2.0   \n",
       "4         no     yes      -6.0    yes       no       no     4.0       3.0   \n",
       "5        yes     yes      -6.0    yes      yes       no     5.0       4.0   \n",
       "6         no     yes      -6.0    yes      yes       no     4.0       4.0   \n",
       "7         no     yes      -6.0    yes       no       no     4.0       1.0   \n",
       "8         no     yes      -6.0    yes      yes       no     NaN       2.0   \n",
       "9        yes     yes      -6.0    yes      yes       no     5.0       5.0   \n",
       "\n",
       "   goout  health  absences  score  \n",
       "0    4.0     3.0       6.0   30.0  \n",
       "1    3.0     3.0       4.0   30.0  \n",
       "2    2.0     3.0      10.0   50.0  \n",
       "3    2.0     5.0       2.0   75.0  \n",
       "4    2.0     5.0       4.0   50.0  \n",
       "5    2.0     5.0      10.0   75.0  \n",
       "6    4.0     3.0       0.0   55.0  \n",
       "7    4.0     1.0       6.0   30.0  \n",
       "8    2.0     1.0       0.0   95.0  \n",
       "9    1.0     5.0       0.0   75.0  "
      ]
     },
     "metadata": {},
     "output_type": "display_data"
    }
   ],
   "source": [
    "display(stud_math.head(10))"
   ]
  },
  {
   "cell_type": "markdown",
   "metadata": {},
   "source": [
    "Начинаем проверять все столбцы по отдельности. "
   ]
  },
  {
   "cell_type": "markdown",
   "metadata": {},
   "source": [
    "## Столбец - school"
   ]
  },
  {
   "cell_type": "code",
   "execution_count": 6,
   "metadata": {},
   "outputs": [
    {
     "name": "stdout",
     "output_type": "stream",
     "text": [
      "GP    311\n",
      "MS     41\n",
      "Name: school, dtype: int64\n"
     ]
    }
   ],
   "source": [
    "# В столбце нет пропусков, это просто аббревиатура школы.\n",
    "print(stud_math['school'].value_counts())"
   ]
  },
  {
   "cell_type": "markdown",
   "metadata": {},
   "source": [
    "## Столбец - sex"
   ]
  },
  {
   "cell_type": "code",
   "execution_count": 7,
   "metadata": {},
   "outputs": [
    {
     "name": "stdout",
     "output_type": "stream",
     "text": [
      "F    182\n",
      "M    170\n",
      "Name: sex, dtype: int64\n"
     ]
    },
    {
     "data": {
      "text/plain": [
       "<matplotlib.axes._subplots.AxesSubplot at 0x15221012cc8>"
      ]
     },
     "execution_count": 7,
     "metadata": {},
     "output_type": "execute_result"
    },
    {
     "data": {
      "image/png": "[encoded data removed]",
      "text/plain": [
       "<Figure size 432x288 with 1 Axes>"
      ]
     },
     "metadata": {
      "needs_background": "light"
     },
     "output_type": "display_data"
    }
   ],
   "source": [
    "# В столбце нет пропусков, в столбце представлен пол ученика.\n",
    "print(stud_math['sex'].value_counts())\n",
    "stud_math['sex'].value_counts().plot(kind='bar',\n",
    "                                     grid=True,\n",
    "                                     colormap='coolwarm',\n",
    "                                     title='Соотношение мужчин и женщин')"
   ]
  },
  {
   "cell_type": "code",
   "execution_count": 8,
   "metadata": {},
   "outputs": [
    {
     "data": {
      "text/plain": [
       "16    96\n",
       "17    90\n",
       "15    76\n",
       "18    69\n",
       "19    16\n",
       "20     3\n",
       "22     1\n",
       "21     1\n",
       "Name: age, dtype: int64"
      ]
     },
     "execution_count": 8,
     "metadata": {},
     "output_type": "execute_result"
    }
   ],
   "source": [
    "stud_math['age'].value_counts()"
   ]
  },
  {
   "cell_type": "markdown",
   "metadata": {},
   "source": [
    "## Столбец - age"
   ]
  },
  {
   "cell_type": "code",
   "execution_count": 9,
   "metadata": {},
   "outputs": [
    {
     "name": "stdout",
     "output_type": "stream",
     "text": [
      "25-й перцентиль: 16.0, 75-й перцентиль: 18.0, IQR: 2.0,  Границы выбросов: [13.0, 21.0].\n"
     ]
    },
    {
     "data": {
      "image/png": "[encoded data removed]",
      "text/plain": [
       "<Figure size 432x288 with 1 Axes>"
      ]
     },
     "metadata": {
      "needs_background": "light"
     },
     "output_type": "display_data"
    }
   ],
   "source": [
    "# В столбце нет пропусков, в столбце представлен возраст учеников.\n",
    "median = stud_math['age'].median()\n",
    "IQR = stud_math['age'].quantile(0.75) - stud_math['age'].quantile(0.25)\n",
    "perc25 = stud_math['age'].quantile(0.25)\n",
    "perc75 = stud_math['age'].quantile(0.75)\n",
    "print('25-й перцентиль: {},'.format(perc25), '75-й перцентиль: {},'.format(perc75),\n",
    "      \"IQR: {}, \".format(IQR), \"Границы выбросов: [{f}, {l}].\".format(f=perc25 - 1.5*IQR, l=perc75 + 1.5*IQR))\n",
    "stud_math['age'].loc[stud_math['age'].between(perc25 - 1.5*IQR, perc75 + 1.5*IQR)].hist(bins=20, range=(12, 24),\n",
    "                                                                                        label='IQR')\n",
    "plt.legend()\n",
    "\n",
    "# Убираем выбросы\n",
    "stud_math = stud_math[stud_math['age'] <= 21]"
   ]
  },
  {
   "cell_type": "markdown",
   "metadata": {},
   "source": [
    "## Столбец - address"
   ]
  },
  {
   "cell_type": "code",
   "execution_count": 10,
   "metadata": {},
   "outputs": [
    {
     "name": "stdout",
     "output_type": "stream",
     "text": [
      "Количество пропущенных значений в столбце: 14\n"
     ]
    },
    {
     "data": {
      "text/html": [
       "<div>\n",
       "<style scoped>\n",
       "    .dataframe tbody tr th:only-of-type {\n",
       "        vertical-align: middle;\n",
       "    }\n",
       "\n",
       "    .dataframe tbody tr th {\n",
       "        vertical-align: top;\n",
       "    }\n",
       "\n",
       "    .dataframe thead th {\n",
       "        text-align: right;\n",
       "    }\n",
       "</style>\n",
       "<table border=\"1\" class=\"dataframe\">\n",
       "  <thead>\n",
       "    <tr style=\"text-align: right;\">\n",
       "      <th></th>\n",
       "      <th>address</th>\n",
       "    </tr>\n",
       "  </thead>\n",
       "  <tbody>\n",
       "    <tr>\n",
       "      <th>U</th>\n",
       "      <td>270</td>\n",
       "    </tr>\n",
       "    <tr>\n",
       "      <th>R</th>\n",
       "      <td>81</td>\n",
       "    </tr>\n",
       "  </tbody>\n",
       "</table>\n",
       "</div>"
      ],
      "text/plain": [
       "   address\n",
       "U      270\n",
       "R       81"
      ]
     },
     "metadata": {},
     "output_type": "display_data"
    },
    {
     "data": {
      "text/plain": [
       "<matplotlib.axes._subplots.AxesSubplot at 0x1522189a688>"
      ]
     },
     "execution_count": 10,
     "metadata": {},
     "output_type": "execute_result"
    },
    {
     "data": {
      "image/png": "[encoded data removed]",
      "text/plain": [
       "<Figure size 432x288 with 1 Axes>"
      ]
     },
     "metadata": {
      "needs_background": "light"
     },
     "output_type": "display_data"
    }
   ],
   "source": [
    "# В столбце есть пропуски, в столбце представлен тип ('U' - городской, 'R' - за городом) адреса проживания учеников.\n",
    "# Сортируем адреса без NaN\n",
    "\n",
    "print('Количество пропущенных значений в столбце: {}'.format(\n",
    "    len(stud_math[stud_math['address'] == 'nan'])))\n",
    "\n",
    "sort_addres = stud_math[stud_math['address'] != 'nan']\n",
    "# Высчитываем среднее время похода в школу\n",
    "mean_traveltime = sort_addres.groupby('address')['traveltime'].mean().mean()\n",
    "\n",
    "# Подставляем значения\n",
    "stud_math['address'] = stud_math[['traveltime', 'address']].apply(\n",
    "    lambda row: substitution_function(row, mean_traveltime), axis=1)\n",
    "\n",
    "\n",
    "display(pd.DataFrame(stud_math['address'].value_counts()))\n",
    "stud_math['address'].value_counts().plot(kind='bar',\n",
    "                                         grid=True,\n",
    "                                         colormap='coolwarm',\n",
    "                                         title='Место проживания учеников',\n",
    "                                         legend=True)"
   ]
  },
  {
   "cell_type": "markdown",
   "metadata": {},
   "source": [
    "По времени пути до школы, делаем вывод, что чем больше ученик тратит времени на дорогу, том больше вероятность, что он живёт за городом. "
   ]
  },
  {
   "cell_type": "markdown",
   "metadata": {},
   "source": [
    "## Столбец - famsize"
   ]
  },
  {
   "cell_type": "code",
   "execution_count": 11,
   "metadata": {},
   "outputs": [
    {
     "name": "stdout",
     "output_type": "stream",
     "text": [
      "Количество пропущенных значений в столбце: 24\n",
      "GT3    232\n",
      "LE3    119\n",
      "Name: famsize, dtype: int64\n"
     ]
    },
    {
     "data": {
      "text/plain": [
       "<matplotlib.axes._subplots.AxesSubplot at 0x15221907588>"
      ]
     },
     "execution_count": 11,
     "metadata": {},
     "output_type": "execute_result"
    },
    {
     "data": {
      "image/png": "[encoded data removed]",
      "text/plain": [
       "<Figure size 432x288 with 1 Axes>"
      ]
     },
     "metadata": {
      "needs_background": "light"
     },
     "output_type": "display_data"
    }
   ],
   "source": [
    "# В столбце есть пропуски, в столбце указан размер семьи учеников ('LE3' <= 3, 'GT3' >3).\n",
    "# Проставляем состав семьи\n",
    "\n",
    "print('Количество пропущенных значений в столбце: {}'.format(\n",
    "    len(stud_math[stud_math['famsize'] == 'nan'])))\n",
    "\n",
    "# Подставляем значения\n",
    "stud_math['famsize'] = stud_math[['address', 'famsize']].apply(\n",
    "    lambda row: famsize_function(row), axis=1)\n",
    "\n",
    "# Пока данных слишком мало, пропуски заполнить нечем.\n",
    "print(stud_math['famsize'].value_counts())\n",
    "stud_math['famsize'].value_counts().plot(kind='bar',\n",
    "                                         grid=True,\n",
    "                                         colormap='coolwarm',\n",
    "                                         title='Размер семьи',\n",
    "                                         legend=True)"
   ]
  },
  {
   "cell_type": "markdown",
   "metadata": {},
   "source": [
    "За городом живут как правило более большие семьи "
   ]
  },
  {
   "cell_type": "markdown",
   "metadata": {},
   "source": [
    "## Столбец - Pstatus"
   ]
  },
  {
   "cell_type": "code",
   "execution_count": 12,
   "metadata": {},
   "outputs": [
    {
     "name": "stdout",
     "output_type": "stream",
     "text": [
      "Количество пропущенных значений в столбце: 41\n",
      "famrel  pstatus\n",
      "-1.0    nan        1.000000\n",
      " 1.0    T          0.500000\n",
      "        nan        0.333333\n",
      "        A          0.166667\n",
      " 2.0    T          0.785714\n",
      "        A          0.214286\n",
      " 3.0    T          0.767857\n",
      "        nan        0.160714\n",
      "        A          0.071429\n",
      " 4.0    T          0.828221\n",
      "        nan        0.104294\n",
      "        A          0.067485\n",
      " 5.0    T          0.735632\n",
      "        nan        0.137931\n",
      "        A          0.126437\n",
      "Name: pstatus, dtype: float64\n"
     ]
    },
    {
     "data": {
      "text/plain": [
       "<matplotlib.axes._subplots.AxesSubplot at 0x1522196c188>"
      ]
     },
     "execution_count": 12,
     "metadata": {},
     "output_type": "execute_result"
    },
    {
     "data": {
      "image/png": "[encoded data removed]",
      "text/plain": [
       "<Figure size 432x288 with 1 Axes>"
      ]
     },
     "metadata": {
      "needs_background": "light"
     },
     "output_type": "display_data"
    }
   ],
   "source": [
    "# В столбце есть пропуски, в столбце указан статус совместного жилья родителей ('T' - живут вместе 'A' - раздельно)\n",
    "\n",
    "print('Количество пропущенных значений в столбце: {}'.format(\n",
    "    len(stud_math[stud_math['pstatus'] == 'nan'])))\n",
    "\n",
    "print(stud_math.groupby('famrel')['pstatus'].value_counts(normalize=True))\n",
    "\n",
    "# Подставляем значения\n",
    "stud_math['pstatus'] = stud_math[['pstatus', 'famrel']].apply(\n",
    "    lambda row: pstatus_function(row), axis=1)\n",
    "\n",
    "stud_math['pstatus'].value_counts().plot(kind='bar',\n",
    "                                         grid=True,\n",
    "                                         colormap='coolwarm',\n",
    "                                         title='Cтатус совместного жилья родителей',\n",
    "                                         legend=True)"
   ]
  },
  {
   "cell_type": "markdown",
   "metadata": {},
   "source": [
    "Чем выше показатель семейных отношений, том больше вероятность что семья полная.  "
   ]
  },
  {
   "cell_type": "markdown",
   "metadata": {},
   "source": [
    "## Столбец - mjob"
   ]
  },
  {
   "cell_type": "code",
   "execution_count": 13,
   "metadata": {},
   "outputs": [
    {
     "name": "stdout",
     "output_type": "stream",
     "text": [
      "Количество пропущенных значений в столбце: 17\n"
     ]
    },
    {
     "data": {
      "text/plain": [
       "<matplotlib.axes._subplots.AxesSubplot at 0x152219e6ac8>"
      ]
     },
     "execution_count": 13,
     "metadata": {},
     "output_type": "execute_result"
    },
    {
     "data": {
      "image/png": "[encoded data removed]",
      "text/plain": [
       "<Figure size 432x288 with 1 Axes>"
      ]
     },
     "metadata": {
      "needs_background": "light"
     },
     "output_type": "display_data"
    }
   ],
   "source": [
    "# В столбце есть пропуски, работа матери\n",
    "# ('teacher' - учитель, 'health' - сфера здравоохранения, 'services' - гос служба,\n",
    "# 'at_home' - не работает, 'other' - другое)\n",
    "\n",
    "print('Количество пропущенных значений в столбце: {}'.format(len(stud_math[stud_math['mjob'] == 'nan'])))\n",
    "# Сортируем значения без NaN\n",
    "sort_mjob = stud_math[stud_math['mjob'] != 'nan']\n",
    "\n",
    "# Находим связь между образованием и профессией\n",
    "mean_mjob = round(sort_mjob.groupby('mjob')['medu'].mean(), 0)\n",
    "\n",
    "# Формируем словарь\n",
    "profession_dict = dict(mean_mjob)\n",
    "profession_dict\n",
    "\n",
    "# Заполняем пропуски\n",
    "stud_math['mjob'] = stud_math[['mjob', 'medu']].apply(\n",
    "    lambda row: func_job(row), axis=1)\n",
    "\n",
    "# Смотрим распределение\n",
    "stud_math['mjob'].hist()"
   ]
  },
  {
   "cell_type": "markdown",
   "metadata": {},
   "source": [
    "Чем лучше образование, тем больше вероятность высокооплачиваемой профессии   "
   ]
  },
  {
   "cell_type": "code",
   "execution_count": 14,
   "metadata": {},
   "outputs": [
    {
     "data": {
      "text/plain": [
       "2"
      ]
     },
     "execution_count": 14,
     "metadata": {},
     "output_type": "execute_result"
    }
   ],
   "source": [
    "len(stud_math) - len(stud_math[stud_math['medu']>=0])"
   ]
  },
  {
   "cell_type": "markdown",
   "metadata": {},
   "source": [
    "## Столбец - medu"
   ]
  },
  {
   "cell_type": "code",
   "execution_count": 15,
   "metadata": {},
   "outputs": [
    {
     "name": "stdout",
     "output_type": "stream",
     "text": [
      "Количество пропущенных значений в столбце: 2\n"
     ]
    },
    {
     "data": {
      "text/plain": [
       "<matplotlib.axes._subplots.AxesSubplot at 0x15221a68988>"
      ]
     },
     "execution_count": 15,
     "metadata": {},
     "output_type": "execute_result"
    },
    {
     "data": {
      "image/png": "[encoded data removed]",
      "text/plain": [
       "<Figure size 432x288 with 1 Axes>"
      ]
     },
     "metadata": {
      "needs_background": "light"
     },
     "output_type": "display_data"
    }
   ],
   "source": [
    "# В столбце есть пропуски, образование матери\n",
    "# (0 - нет, 1 - 4 класса, 2 - 5-9 классы, 3 - среднее специальное или 11 классов, 4 - высшее)\n",
    "\n",
    "print('Количество пропущенных значений в столбце: {}'.format(\n",
    "    len(stud_math) - len(stud_math[stud_math['medu'] >= 0])))\n",
    "\n",
    "# Подставляем значения в Датафрейм\n",
    "stud_math['medu'] = stud_math[['medu', 'mjob']].apply(\n",
    "    lambda row: func_counter(row, profession_dict), axis=1)\n",
    "\n",
    "# Посмотрим на его распределение:\n",
    "stud_math['medu'].hist()"
   ]
  },
  {
   "cell_type": "markdown",
   "metadata": {},
   "source": [
    "Чем лучше профессия, тем больше вероятность хорошего образования   "
   ]
  },
  {
   "cell_type": "markdown",
   "metadata": {},
   "source": [
    "## Столбец - fjob"
   ]
  },
  {
   "cell_type": "code",
   "execution_count": 16,
   "metadata": {},
   "outputs": [
    {
     "name": "stdout",
     "output_type": "stream",
     "text": [
      "Количество пропущенных значений в столбце: 32\n"
     ]
    },
    {
     "data": {
      "text/plain": [
       "<matplotlib.axes._subplots.AxesSubplot at 0x152217caa48>"
      ]
     },
     "execution_count": 16,
     "metadata": {},
     "output_type": "execute_result"
    },
    {
     "data": {
      "image/png": "[encoded data removed]",
      "text/plain": [
       "<Figure size 432x288 with 1 Axes>"
      ]
     },
     "metadata": {
      "needs_background": "light"
     },
     "output_type": "display_data"
    }
   ],
   "source": [
    "# В столбце есть пропуски, работа отца\n",
    "# ('teacher' - учитель, 'health' - сфера здравоохранения, 'services' - гос служба,\n",
    "# 'at_home' - не работает, 'other' - другое)\n",
    "\n",
    "print('Количество пропущенных значений в столбце: {}'.format(\n",
    "    len(stud_math[stud_math['fjob'] == 'nan'])))\n",
    "\n",
    "# Сортируем значения без NaN\n",
    "sort_fjob = stud_math[stud_math['fjob'] != 'nan']\n",
    "\n",
    "# Находим связь между образованием и профессией\n",
    "mean_fjob = round(sort_mjob.groupby('fjob')['medu'].mean(), 0)\n",
    "\n",
    "# Формируем словарь\n",
    "profession_dict = dict(mean_fjob)\n",
    "profession_dict\n",
    "\n",
    "# Заполняем пропуски\n",
    "stud_math['fjob'] = stud_math[['fjob', 'fedu']].apply(\n",
    "    lambda row: func_job(row), axis=1)\n",
    "\n",
    "# Смотрим распределение\n",
    "stud_math['fjob'].hist()"
   ]
  },
  {
   "cell_type": "markdown",
   "metadata": {},
   "source": [
    "Чем лучше образование, тем больше вероятность высокооплачиваемой профессии   "
   ]
  },
  {
   "cell_type": "markdown",
   "metadata": {},
   "source": [
    "## Столбец - fedu"
   ]
  },
  {
   "cell_type": "code",
   "execution_count": 17,
   "metadata": {},
   "outputs": [
    {
     "name": "stdout",
     "output_type": "stream",
     "text": [
      "Количество пропущенных значений в столбце: 21\n"
     ]
    },
    {
     "data": {
      "text/plain": [
       "<matplotlib.axes._subplots.AxesSubplot at 0x15221ad72c8>"
      ]
     },
     "execution_count": 17,
     "metadata": {},
     "output_type": "execute_result"
    },
    {
     "data": {
      "image/png": "[encoded data removed]",
      "text/plain": [
       "<Figure size 432x288 with 1 Axes>"
      ]
     },
     "metadata": {
      "needs_background": "light"
     },
     "output_type": "display_data"
    }
   ],
   "source": [
    "# В столбце есть пропуски, образование матери\n",
    "# (0 - нет, 1 - 4 класса, 2 - 5-9 классы, 3 - среднее специальное или 11 классов, 4 - высшее)\n",
    "\n",
    "print('Количество пропущенных значений в столбце: {}'.format(\n",
    "    len(stud_math) - len(stud_math[stud_math['fedu'] >= 0])))\n",
    "\n",
    "# Подставляем значения в Датафрейм\n",
    "stud_math['fedu'] = stud_math[['fedu', 'fjob']].apply(\n",
    "    lambda row: func_counter(row, profession_dict), axis=1)\n",
    "\n",
    "# Убераем выбросы\n",
    "stud_math = stud_math[stud_math['fedu'] <= 10]\n",
    "\n",
    "# Посмотрим на его распределение:\n",
    "stud_math['fedu'].hist()"
   ]
  },
  {
   "cell_type": "markdown",
   "metadata": {},
   "source": [
    "Чем лучше профессия, тем больше вероятность хорошего образования   "
   ]
  },
  {
   "cell_type": "markdown",
   "metadata": {},
   "source": [
    "## Столбец - reason"
   ]
  },
  {
   "cell_type": "code",
   "execution_count": 18,
   "metadata": {},
   "outputs": [
    {
     "name": "stdout",
     "output_type": "stream",
     "text": [
      "Количество пропущенных значений в столбце: 15\n"
     ]
    },
    {
     "data": {
      "text/plain": [
       "<matplotlib.axes._subplots.AxesSubplot at 0x15221b5e348>"
      ]
     },
     "execution_count": 18,
     "metadata": {},
     "output_type": "execute_result"
    },
    {
     "data": {
      "image/png": "[encoded data removed]",
      "text/plain": [
       "<Figure size 432x288 with 1 Axes>"
      ]
     },
     "metadata": {
      "needs_background": "light"
     },
     "output_type": "display_data"
    }
   ],
   "source": [
    "# В столбце есть пропуски, причина выбора школы\n",
    "# ('home' - близость к дому, 'reputation' - репутация школы, 'course' - образовательная программа, 'other' - другое)\n",
    "print('Количество пропущенных значений в столбце: {}'.format(\n",
    "    len(stud_math[stud_math['reason'] == 'nan'])))\n",
    "\n",
    "# Подставляем значения\n",
    "stud_math['reason'] = stud_math['reason'].apply(\n",
    "    lambda row: reasen_function(row))\n",
    "\n",
    "# Посмотрим на его распределение:\n",
    "stud_math['reason'].hist()"
   ]
  },
  {
   "cell_type": "markdown",
   "metadata": {},
   "source": [
    "## Столбец - traveltime"
   ]
  },
  {
   "cell_type": "code",
   "execution_count": 19,
   "metadata": {},
   "outputs": [
    {
     "name": "stdout",
     "output_type": "stream",
     "text": [
      "Количество пропущенных значений в столбце: 23\n",
      "Среднее время затраченное на дорогу в школу в селе: 1.79\n",
      "Среднее время затраченное на дорогу в школу в городе: 1.33\n"
     ]
    },
    {
     "data": {
      "text/plain": [
       "<matplotlib.axes._subplots.AxesSubplot at 0x15221be5e88>"
      ]
     },
     "execution_count": 19,
     "metadata": {},
     "output_type": "execute_result"
    },
    {
     "data": {
      "image/png": "[encoded data removed]",
      "text/plain": [
       "<Figure size 432x288 with 1 Axes>"
      ]
     },
     "metadata": {
      "needs_background": "light"
     },
     "output_type": "display_data"
    }
   ],
   "source": [
    "# В столбце есть пропуски, время в пути до школы (1 - < 15 мин., 2 - 15-30 мин., 3 - 30-60 мин., 4 - >60 мин.)\n",
    "\n",
    "print('Количество пропущенных значений в столбце: {}'.format(\n",
    "    len(stud_math) - len(stud_math[stud_math['traveltime'] >= 0])))\n",
    "\n",
    "# В данном случае мы видим, что школьникам живущим в селе требуется больше времени, чтобы добраться в школу.\n",
    "print('Среднее время затраченное на дорогу в школу в селе: {}'.format(\n",
    "    round(sort_addres.groupby('address')['traveltime'].mean().max(), 2)))\n",
    "print('Среднее время затраченное на дорогу в школу в городе: {}'.format(\n",
    "    round(sort_addres.groupby('address')['traveltime'].mean().min(), 2)))\n",
    "\n",
    "# Подставляем значения, 2 для городских жителей и 3 для деревенских\n",
    "stud_math['traveltime'] = stud_math[['address', 'traveltime']].apply(\n",
    "    lambda row: famsize_traveltime(row), axis=1)\n",
    "\n",
    "# Посмотрим на его распределение:\n",
    "stud_math['traveltime'].hist()"
   ]
  },
  {
   "cell_type": "markdown",
   "metadata": {},
   "source": [
    "Чем больше человек тратит времени, чтобы добраться до школы, тем больше вероятность что он живёт в селе   "
   ]
  },
  {
   "cell_type": "markdown",
   "metadata": {},
   "source": [
    "## Столбец - guardian"
   ]
  },
  {
   "cell_type": "code",
   "execution_count": 20,
   "metadata": {},
   "outputs": [
    {
     "name": "stdout",
     "output_type": "stream",
     "text": [
      "Количество пропущенных значений в столбце: 29\n"
     ]
    },
    {
     "data": {
      "text/plain": [
       "<matplotlib.axes._subplots.AxesSubplot at 0x15221c55188>"
      ]
     },
     "execution_count": 20,
     "metadata": {},
     "output_type": "execute_result"
    },
    {
     "data": {
      "image/png": "[encoded data removed]",
      "text/plain": [
       "<Figure size 432x288 with 1 Axes>"
      ]
     },
     "metadata": {
      "needs_background": "light"
     },
     "output_type": "display_data"
    }
   ],
   "source": [
    "# В столбце есть пропуски, опекун ('mother' - мать, 'father' - отец, 'other' - другое)\n",
    "\n",
    "print('Количество пропущенных значений в столбце: {}'.format(\n",
    "    len(stud_math[stud_math['guardian'] == 'nan'])))\n",
    "# Подставляем значения\n",
    "stud_math['guardian'] = stud_math['guardian'].apply(\n",
    "    lambda row: guardian_function(row))\n",
    "\n",
    "# Посмотрим на его распределение:\n",
    "stud_math['guardian'].hist()"
   ]
  },
  {
   "cell_type": "markdown",
   "metadata": {},
   "source": [
    "## Столбец - studytime"
   ]
  },
  {
   "cell_type": "code",
   "execution_count": 21,
   "metadata": {},
   "outputs": [
    {
     "name": "stdout",
     "output_type": "stream",
     "text": [
      "Количество пропущенных значений в столбце: 7\n",
      "Время на учёбу помимо школы в неделю по составу семьи  famsize\n",
      "GT3    2.093333\n",
      "LE3    1.957627\n",
      "Name: studytime, dtype: float64\n",
      "\n",
      "Время на учёбу помимо школы в неделю по удалённости от школы  address\n",
      "R    2.137500\n",
      "U    2.019011\n",
      "Name: studytime, dtype: float64\n",
      "\n",
      "Время на учёбу помимо школы в неделю по полу  sex\n",
      "F    2.282486\n",
      "M    1.795181\n",
      "Name: studytime, dtype: float64\n"
     ]
    },
    {
     "data": {
      "text/plain": [
       "array([2., 3., 1., 4.])"
      ]
     },
     "execution_count": 21,
     "metadata": {},
     "output_type": "execute_result"
    }
   ],
   "source": [
    "# В столбце есть пропуски, время на учёбу помимо школы в неделю\n",
    "# (1 - <2 часов, 2 - 2-5 часов, 3 - 5-10 часов, 4 - >10 часов)\n",
    "\n",
    "print('Количество пропущенных значений в столбце: {}'.format(\n",
    "    len(stud_math) - len(stud_math[stud_math['studytime'] >= 0])))\n",
    "print('Время на учёбу помимо школы в неделю по составу семьи ',\n",
    "      stud_math.groupby('famsize')['studytime'].mean())\n",
    "print()\n",
    "print('Время на учёбу помимо школы в неделю по удалённости от школы ',\n",
    "      stud_math.groupby('address')['studytime'].mean())\n",
    "print()\n",
    "print('Время на учёбу помимо школы в неделю по полу ',\n",
    "      stud_math.groupby('sex')['studytime'].mean())\n",
    "\n",
    "stud_math['studytime'] = stud_math[['studytime', 'famsize', 'address',\n",
    "                                    'sex']].apply(lambda row: studytime_function(row), axis=1)\n",
    "\n",
    "stud_math['studytime'].unique()"
   ]
  },
  {
   "cell_type": "markdown",
   "metadata": {},
   "source": [
    "Видим, что девушки, которые живут в городе в маленькой семье имеют больше времени на учёбу чем остальные "
   ]
  },
  {
   "cell_type": "markdown",
   "metadata": {},
   "source": [
    "## Столбец - failures"
   ]
  },
  {
   "cell_type": "code",
   "execution_count": 22,
   "metadata": {},
   "outputs": [
    {
     "name": "stdout",
     "output_type": "stream",
     "text": [
      "Количество пропущенных значений в столбце: 20\n",
      "Количество времени затраченное на учёбу помимо школы: studytime\n",
      "1.0    0.376\n",
      "2.0    0.255\n",
      "3.0    0.164\n",
      "4.0    0.160\n",
      "Name: failures, dtype: float64\n",
      "\n",
      "Образование матери: medu\n",
      "0.0    1.000\n",
      "1.0    0.522\n",
      "2.0    0.284\n",
      "3.0    0.298\n",
      "4.0    0.103\n",
      "Name: failures, dtype: float64\n"
     ]
    },
    {
     "data": {
      "text/plain": [
       "<matplotlib.axes._subplots.AxesSubplot at 0x15221ce3348>"
      ]
     },
     "execution_count": 22,
     "metadata": {},
     "output_type": "execute_result"
    },
    {
     "data": {
      "image/png": "[encoded data removed]",
      "text/plain": [
       "<Figure size 432x288 with 1 Axes>"
      ]
     },
     "metadata": {
      "needs_background": "light"
     },
     "output_type": "display_data"
    }
   ],
   "source": [
    "# В столбце есть пропуски\n",
    "# количество внеучебных неудач (n, если 1<=n<=3, иначе 0)\n",
    "\n",
    "print('Количество пропущенных значений в столбце: {}'.format(\n",
    "    len(stud_math) - len(stud_math[stud_math['failures'] >= 0])))\n",
    "# Группируем по столбцу studytime и видим обратную зависимость от количество\n",
    "# затраченных часов и количество неудач.\n",
    "print('Количество времени затраченное на учёбу помимо школы: {}'.format(\n",
    "    round(stud_math.groupby('studytime')['failures'].mean(), 3)))\n",
    "print()\n",
    "# Группируем по столбцу medu и видим обратную зависимость от количество\n",
    "# затраченных часов и количество неудач.\n",
    "print('Образование матери: {}'.format(\n",
    "    round(stud_math.groupby('medu')['failures'].mean(), 3)))\n",
    "\n",
    "# Подставляем значения\n",
    "stud_math['failures'] = stud_math[['failures', 'studytime']].apply(\n",
    "    lambda row: failures_function(row), axis=1)\n",
    "\n",
    "# Смотрим распределение\n",
    "stud_math['failures'].hist()"
   ]
  },
  {
   "cell_type": "markdown",
   "metadata": {},
   "source": [
    "Чем меньше уделялось вниманию учёбе вне школы, тем больше количество неудач  "
   ]
  },
  {
   "cell_type": "markdown",
   "metadata": {},
   "source": [
    "## Столбец - higher"
   ]
  },
  {
   "cell_type": "code",
   "execution_count": 23,
   "metadata": {},
   "outputs": [
    {
     "name": "stdout",
     "output_type": "stream",
     "text": [
      "Количество пропущенных значений в столбце: 19\n",
      "Ученик хочет получить высшее образование и имеет доступ в интернет:\n",
      "yes    0.777429\n",
      "no     0.131661\n",
      "nan    0.090909\n",
      "Name: internet, dtype: float64\n"
     ]
    },
    {
     "data": {
      "text/plain": [
       "<matplotlib.axes._subplots.AxesSubplot at 0x15221d8f7c8>"
      ]
     },
     "execution_count": 23,
     "metadata": {},
     "output_type": "execute_result"
    },
    {
     "data": {
      "image/png": "[encoded data removed]",
      "text/plain": [
       "<Figure size 432x288 with 1 Axes>"
      ]
     },
     "metadata": {
      "needs_background": "light"
     },
     "output_type": "display_data"
    }
   ],
   "source": [
    "# хочет получить высшее образование (yes или no)\n",
    "print('Количество пропущенных значений в столбце: {}'.format(\n",
    "    len(stud_math[stud_math['higher'] == 'nan'])))\n",
    "\n",
    "# Большинство учеников которые хотят получить\n",
    "# высшее образование имеют доступ в интернет\n",
    "\n",
    "print('Ученик хочет получить высшее образование и имеет доступ в интернет:')\n",
    "print(stud_math[stud_math['higher'] == 'yes']\n",
    "      ['internet'].value_counts(normalize=True))\n",
    "\n",
    "# Подставляем значения\n",
    "stud_math['higher'] = stud_math[['higher', 'internet']].apply(\n",
    "    lambda row: higher_function(row), axis=1)\n",
    "stud_math['higher'].value_counts().plot(kind='bar',\n",
    "                                        grid=True,\n",
    "                                        colormap='coolwarm',\n",
    "                                        title='Кол-во учеников хочет получить высшее образование',\n",
    "                                        legend=True)"
   ]
  },
  {
   "cell_type": "markdown",
   "metadata": {},
   "source": [
    "Люди хотят получить высшее образование имеют доступ в интернет   "
   ]
  },
  {
   "cell_type": "markdown",
   "metadata": {},
   "source": [
    "## Столбец - schoolsup"
   ]
  },
  {
   "cell_type": "code",
   "execution_count": 24,
   "metadata": {},
   "outputs": [
    {
     "name": "stdout",
     "output_type": "stream",
     "text": [
      "Количество пропущенных значений в столбце: 9\n",
      "higher  schoolsup\n",
      "no      no           0.866667\n",
      "        nan          0.066667\n",
      "        yes          0.066667\n",
      "yes     no           0.835821\n",
      "        yes          0.140299\n",
      "        nan          0.023881\n",
      "Name: schoolsup, dtype: float64\n"
     ]
    },
    {
     "data": {
      "text/plain": [
       "<matplotlib.axes._subplots.AxesSubplot at 0x15221e1c408>"
      ]
     },
     "execution_count": 24,
     "metadata": {},
     "output_type": "execute_result"
    },
    {
     "data": {
      "image/png": "[encoded data removed]",
      "text/plain": [
       "<Figure size 432x288 with 1 Axes>"
      ]
     },
     "metadata": {
      "needs_background": "light"
     },
     "output_type": "display_data"
    }
   ],
   "source": [
    "# В столбце есть пропуски\n",
    "# дополнительная образовательная поддержка (yes или no)\n",
    "print('Количество пропущенных значений в столбце: {}'.format(\n",
    "    len(stud_math[stud_math['schoolsup'] == 'nan'])))\n",
    "\n",
    "print(stud_math.groupby('higher')['schoolsup'].value_counts(normalize=True))\n",
    "\n",
    "# Подставляем значения\n",
    "stud_math['schoolsup'] = stud_math[['schoolsup', 'higher']].apply(\n",
    "    lambda row: schoolsup_function(row), axis=1)\n",
    "\n",
    "stud_math['schoolsup'].value_counts().plot(kind='bar',\n",
    "                                           grid=True,\n",
    "                                           colormap='coolwarm',\n",
    "                                           title='Кол-во учеников у которых есть дополнительная образовательная поддержка',\n",
    "                                           legend=True)"
   ]
  },
  {
   "cell_type": "markdown",
   "metadata": {},
   "source": [
    "## Столбец - famsup"
   ]
  },
  {
   "cell_type": "code",
   "execution_count": 25,
   "metadata": {},
   "outputs": [
    {
     "name": "stdout",
     "output_type": "stream",
     "text": [
      "Количество пропущенных значений в столбце: 36\n",
      "famsup  medu\n",
      "nan     4.0     15\n",
      "        2.0     10\n",
      "        3.0      7\n",
      "        1.0      3\n",
      "        0.0      1\n",
      "no      2.0     33\n",
      "        4.0     31\n",
      "        3.0     30\n",
      "        1.0     23\n",
      "        0.0      2\n",
      "yes     4.0     79\n",
      "        3.0     51\n",
      "        2.0     44\n",
      "        1.0     21\n",
      "Name: medu, dtype: int64\n"
     ]
    },
    {
     "data": {
      "text/plain": [
       "<matplotlib.axes._subplots.AxesSubplot at 0x15221e96188>"
      ]
     },
     "execution_count": 25,
     "metadata": {},
     "output_type": "execute_result"
    },
    {
     "data": {
      "image/png": "[encoded data removed]",
      "text/plain": [
       "<Figure size 432x288 with 1 Axes>"
      ]
     },
     "metadata": {
      "needs_background": "light"
     },
     "output_type": "display_data"
    }
   ],
   "source": [
    "# В столбце есть пропуски\n",
    "# семейная образовательная поддержка (yes или no)\n",
    "print('Количество пропущенных значений в столбце: {}'.format(\n",
    "    len(stud_math[stud_math['famsup'] == 'nan'])))\n",
    "\n",
    "# Наличие образования у матери указывает на семейную поддержку.\n",
    "print(stud_math.groupby('famsup')['medu'].value_counts())\n",
    "\n",
    "# Подставляем значения\n",
    "stud_math['famsup'] = stud_math[['famsup', 'medu']].apply(\n",
    "    lambda row: famsup_function(row), axis=1)\n",
    "\n",
    "stud_math['famsup'].value_counts().plot(kind='bar',\n",
    "                                        grid=True,\n",
    "                                        colormap='coolwarm',\n",
    "                                        title='Кол-во учеников у которых есть семейная образовательная поддержка',\n",
    "                                        legend=True)"
   ]
  },
  {
   "cell_type": "markdown",
   "metadata": {},
   "source": [
    "## Столбец - paid"
   ]
  },
  {
   "cell_type": "code",
   "execution_count": 26,
   "metadata": {},
   "outputs": [
    {
     "name": "stdout",
     "output_type": "stream",
     "text": [
      "Количество пропущенных значений в столбце: 36\n"
     ]
    },
    {
     "data": {
      "text/plain": [
       "<matplotlib.axes._subplots.AxesSubplot at 0x15221f02708>"
      ]
     },
     "execution_count": 26,
     "metadata": {},
     "output_type": "execute_result"
    },
    {
     "data": {
      "image/png": "[encoded data removed]",
      "text/plain": [
       "<Figure size 432x288 with 1 Axes>"
      ]
     },
     "metadata": {
      "needs_background": "light"
     },
     "output_type": "display_data"
    }
   ],
   "source": [
    "# В столбце есть пропуски\n",
    "# дополнительные платные занятия по математике (yes или no)\n",
    "print('Количество пропущенных значений в столбце: {}'.format(\n",
    "    len(stud_math[stud_math['paid'] == 'nan'])))\n",
    "\n",
    "# Видем, что если родители работают, то могут позволить оплацивать дополнительные занятия\n",
    "stud_math.groupby('paid')['mjob'].value_counts()\n",
    "\n",
    "# Подставляем значения\n",
    "stud_math['paid'] = stud_math[['paid', 'mjob']].apply(\n",
    "    lambda row: paid_function(row), axis=1)\n",
    "\n",
    "stud_math['paid'].value_counts().plot(kind='bar',\n",
    "                                           grid=True,\n",
    "                                           colormap='coolwarm',\n",
    "                                           title='дополнительные платные занятия по математике',\n",
    "                                           legend=True)"
   ]
  },
  {
   "cell_type": "markdown",
   "metadata": {},
   "source": [
    "## Столбец - activities"
   ]
  },
  {
   "cell_type": "code",
   "execution_count": 27,
   "metadata": {},
   "outputs": [
    {
     "name": "stdout",
     "output_type": "stream",
     "text": [
      "Количество пропущенных значений в столбце: 12\n",
      "studytime  activities\n",
      "1.0        no            49\n",
      "           yes           37\n",
      "           nan            5\n",
      "2.0        yes           86\n",
      "           no            83\n",
      "           nan            5\n",
      "3.0        yes           31\n",
      "           no            24\n",
      "           nan            2\n",
      "4.0        yes           17\n",
      "           no            11\n",
      "Name: activities, dtype: int64\n"
     ]
    },
    {
     "data": {
      "text/plain": [
       "<matplotlib.axes._subplots.AxesSubplot at 0x15221f7b508>"
      ]
     },
     "execution_count": 27,
     "metadata": {},
     "output_type": "execute_result"
    },
    {
     "data": {
      "image/png": "[encoded data removed]",
      "text/plain": [
       "<Figure size 432x288 with 1 Axes>"
      ]
     },
     "metadata": {
      "needs_background": "light"
     },
     "output_type": "display_data"
    }
   ],
   "source": [
    "# В столбце есть пропуски\n",
    "# дополнительные внеучебные занятия (yes или no)\n",
    "# Видим, что школьники которые занимаются более 2 часов в неделю помимо школы\n",
    "# чаще посещают внеучебные занятия.\n",
    "print('Количество пропущенных значений в столбце: {}'.format(\n",
    "    len(stud_math[stud_math['activities'] == 'nan'])))\n",
    "print(stud_math.groupby('studytime')['activities'].value_counts())\n",
    "\n",
    "# Подставляем значения\n",
    "stud_math['activities'] = stud_math[['activities', 'studytime']].apply(\n",
    "    lambda row: activities_function(row), axis=1)\n",
    "\n",
    "stud_math['activities'].value_counts().plot(kind='bar',\n",
    "                                            grid=True,\n",
    "                                            colormap='coolwarm',\n",
    "                                            title='дополнительные внеучебные занятия',\n",
    "                                            legend=True)"
   ]
  },
  {
   "cell_type": "markdown",
   "metadata": {},
   "source": [
    "## Столбец - nursery"
   ]
  },
  {
   "cell_type": "code",
   "execution_count": 28,
   "metadata": {},
   "outputs": [
    {
     "name": "stdout",
     "output_type": "stream",
     "text": [
      "Количество пропущенных значений в столбце: 12\n"
     ]
    },
    {
     "data": {
      "text/plain": [
       "<matplotlib.axes._subplots.AxesSubplot at 0x15221fe5e08>"
      ]
     },
     "execution_count": 28,
     "metadata": {},
     "output_type": "execute_result"
    },
    {
     "data": {
      "image/png": "[encoded data removed]",
      "text/plain": [
       "<Figure size 432x288 with 1 Axes>"
      ]
     },
     "metadata": {
      "needs_background": "light"
     },
     "output_type": "display_data"
    }
   ],
   "source": [
    "# В столбце есть пропуски\n",
    "# посещал детский сад (yes или no)\n",
    "print('Количество пропущенных значений в столбце: {}'.format(\n",
    "    len(stud_math[stud_math['nursery'] == 'nan'])))\n",
    "\n",
    "# Подставляем значения\n",
    "stud_math['nursery'] = stud_math[['nursery', 'famsize']].apply(\n",
    "    lambda row: nursery_function(row), axis=1)\n",
    "\n",
    "stud_math['nursery'].value_counts().plot(kind='bar',\n",
    "                                         grid=True,\n",
    "                                         colormap='coolwarm',\n",
    "                                         title='посещал детский сад',\n",
    "                                         legend=True)"
   ]
  },
  {
   "cell_type": "markdown",
   "metadata": {},
   "source": [
    "## Столбец - granular"
   ]
  },
  {
   "cell_type": "code",
   "execution_count": 29,
   "metadata": {},
   "outputs": [
    {
     "name": "stdout",
     "output_type": "stream",
     "text": [
      "-6.0     173\n",
      "-3.0      89\n",
      "-9.0      57\n",
      "-12.0     24\n",
      "Name: granular, dtype: int64\n"
     ]
    }
   ],
   "source": [
    "# Столбец ошибочно попал в Датафрейм, удалим его\n",
    "print(stud_math['granular'].value_counts())\n",
    "stud_math.drop(['granular'], inplace=True, axis=1)"
   ]
  },
  {
   "cell_type": "markdown",
   "metadata": {},
   "source": [
    "## Столбец - internet"
   ]
  },
  {
   "cell_type": "code",
   "execution_count": 30,
   "metadata": {},
   "outputs": [
    {
     "name": "stdout",
     "output_type": "stream",
     "text": [
      "Количество пропущенных значений в столбце: 29\n"
     ]
    },
    {
     "data": {
      "text/plain": [
       "<matplotlib.axes._subplots.AxesSubplot at 0x1522205cfc8>"
      ]
     },
     "execution_count": 30,
     "metadata": {},
     "output_type": "execute_result"
    },
    {
     "data": {
      "image/png": "[encoded data removed]",
      "text/plain": [
       "<Figure size 432x288 with 1 Axes>"
      ]
     },
     "metadata": {
      "needs_background": "light"
     },
     "output_type": "display_data"
    }
   ],
   "source": [
    "# В столбце есть пропуски\n",
    "# наличие интернета дома (yes или no)\n",
    "print('Количество пропущенных значений в столбце: {}'.format(\n",
    "    len(stud_math[stud_math['internet'] == 'nan'])))\n",
    "\n",
    "# Подставляем значения\n",
    "stud_math['internet'] = stud_math[['internet', 'higher']].apply(\n",
    "    lambda row: internet_function(row), axis=1)\n",
    "\n",
    "stud_math['internet'].value_counts().plot(kind='bar',\n",
    "                                          grid=True,\n",
    "                                          colormap='coolwarm',\n",
    "                                          title='наличие интернета дома',\n",
    "                                          legend=True)"
   ]
  },
  {
   "cell_type": "markdown",
   "metadata": {},
   "source": [
    "## Столбец - romantic"
   ]
  },
  {
   "cell_type": "code",
   "execution_count": 31,
   "metadata": {},
   "outputs": [
    {
     "name": "stdout",
     "output_type": "stream",
     "text": [
      "Количество пропущенных значений в столбце: 29\n",
      "romantic\n",
      "nan    16.275862\n",
      "no     16.513761\n",
      "yes    16.951456\n",
      "Name: age, dtype: float64\n"
     ]
    },
    {
     "data": {
      "text/plain": [
       "<matplotlib.axes._subplots.AxesSubplot at 0x152230a5e08>"
      ]
     },
     "execution_count": 31,
     "metadata": {},
     "output_type": "execute_result"
    },
    {
     "data": {
      "image/png": "[encoded data removed]",
      "text/plain": [
       "<Figure size 432x288 with 1 Axes>"
      ]
     },
     "metadata": {
      "needs_background": "light"
     },
     "output_type": "display_data"
    }
   ],
   "source": [
    "# В столбце есть пропуски\n",
    "# в романтических отношениях (yes или no))\n",
    "print('Количество пропущенных значений в столбце: {}'.format(\n",
    "    len(stud_math[stud_math['romantic'] == 'nan'])))\n",
    "\n",
    "# Видим, что люди старше 17 лет уже имеют отношения.\n",
    "print(stud_math.groupby('romantic')['age'].mean())\n",
    "\n",
    "# Подставляем значения\n",
    "stud_math['romantic'] = stud_math[['romantic', 'age']].apply(\n",
    "    lambda row: romantic_function(row), axis=1)\n",
    "\n",
    "stud_math['romantic'].value_counts().plot(kind='bar',\n",
    "                                          grid=True,\n",
    "                                          colormap='coolwarm',\n",
    "                                          title='в романтических отношениях',\n",
    "                                          legend=True)"
   ]
  },
  {
   "cell_type": "markdown",
   "metadata": {},
   "source": [
    "## Столбец - famrel"
   ]
  },
  {
   "cell_type": "code",
   "execution_count": 32,
   "metadata": {},
   "outputs": [
    {
     "name": "stdout",
     "output_type": "stream",
     "text": [
      "Количество пропущенных значений в столбце: 25\n",
      " 4.0    163\n",
      " 5.0     86\n",
      " 3.0     56\n",
      " 2.0     14\n",
      " 1.0      6\n",
      "-1.0      1\n",
      "Name: famrel, dtype: int64\n",
      "famrel  pstatus\n",
      "-1.0    A          1.000000\n",
      " 1.0    A          0.500000\n",
      "        T          0.500000\n",
      " 2.0    T          0.785714\n",
      "        A          0.214286\n",
      " 3.0    T          0.928571\n",
      "        A          0.071429\n",
      " 4.0    T          0.932515\n",
      "        A          0.067485\n",
      " 5.0    T          0.872093\n",
      "        A          0.127907\n",
      "Name: pstatus, dtype: float64\n"
     ]
    },
    {
     "data": {
      "text/plain": [
       "<matplotlib.axes._subplots.AxesSubplot at 0x15223110f48>"
      ]
     },
     "execution_count": 32,
     "metadata": {},
     "output_type": "execute_result"
    },
    {
     "data": {
      "image/png": "[encoded data removed]",
      "text/plain": [
       "<Figure size 432x288 with 1 Axes>"
      ]
     },
     "metadata": {
      "needs_background": "light"
     },
     "output_type": "display_data"
    }
   ],
   "source": [
    "# В столбце есть пропуски\n",
    "# семейные отношения (от 1 - очень плохо до 5 - очень хорошо)\n",
    "# Одно значение имеет показатель -1, отфильтруем его\n",
    "print('Количество пропущенных значений в столбце: {}'.format(\n",
    "    len(stud_math) - len(stud_math[stud_math['famrel'] >= 0])))\n",
    "\n",
    "print(stud_math.famrel.value_counts())\n",
    "print(stud_math.groupby('famrel')['pstatus'].value_counts(normalize=True))\n",
    "\n",
    "# Подставляем значения\n",
    "stud_math['famrel'] = stud_math[['famrel', 'pstatus']].apply(\n",
    "    lambda row: famrel_function(row), axis=1)\n",
    "\n",
    "# отфильтруем ошибочное значение\n",
    "stud_math = stud_math[stud_math['famrel'] >= 0]\n",
    "\n",
    "stud_math['famrel'].value_counts().plot(kind='bar',\n",
    "                                        grid=True,\n",
    "                                        colormap='coolwarm',\n",
    "                                        title='семейные отношения (от 1 - очень плохо до 5 - очень хорошо)',\n",
    "                                        legend=True)"
   ]
  },
  {
   "cell_type": "markdown",
   "metadata": {},
   "source": [
    "Чем выше показатель семейных отношений, тем больше вероятность, что семья целая.   "
   ]
  },
  {
   "cell_type": "markdown",
   "metadata": {},
   "source": [
    "## Столбец - freetime"
   ]
  },
  {
   "cell_type": "code",
   "execution_count": 33,
   "metadata": {},
   "outputs": [
    {
     "name": "stdout",
     "output_type": "stream",
     "text": [
      "Количество пропущенных значений в столбце: 8\n",
      "freetime\n",
      "1.0    2.500000\n",
      "2.0    2.017544\n",
      "3.0    2.143939\n",
      "4.0    1.980198\n",
      "5.0    1.800000\n",
      "Name: studytime, dtype: float64\n"
     ]
    },
    {
     "data": {
      "text/plain": [
       "<matplotlib.axes._subplots.AxesSubplot at 0x1522318b9c8>"
      ]
     },
     "execution_count": 33,
     "metadata": {},
     "output_type": "execute_result"
    },
    {
     "data": {
      "image/png": "[encoded data removed]",
      "text/plain": [
       "<Figure size 432x288 with 1 Axes>"
      ]
     },
     "metadata": {
      "needs_background": "light"
     },
     "output_type": "display_data"
    }
   ],
   "source": [
    "# В столбце есть пропуски\n",
    "# свободное время после школы (от 1 - очень мало до 5 - очень мого)\n",
    "print('Количество пропущенных значений в столбце: {}'.format(\n",
    "    len(stud_math) - len(stud_math[stud_math['freetime'] >= 0])))\n",
    "\n",
    "# Видим, чем больше времени на учёбу после школы, тем меньше свободного времени\n",
    "print(stud_math.groupby('freetime')['studytime'].mean())\n",
    "\n",
    "# Подставляем значения\n",
    "stud_math['freetime'] = stud_math[['freetime', 'studytime']].apply(\n",
    "    lambda row: freetime_function(row), axis=1)\n",
    "\n",
    "stud_math['freetime'].value_counts().plot(kind='bar',\n",
    "                                          grid=True,\n",
    "                                          colormap='coolwarm',\n",
    "                                          title='свободное время после школы',\n",
    "                                          legend=True)"
   ]
  },
  {
   "cell_type": "markdown",
   "metadata": {},
   "source": [
    "Чем меньше занятии в не учебное время, тем больше свободного времени   "
   ]
  },
  {
   "cell_type": "markdown",
   "metadata": {},
   "source": [
    "## Столбец - goout"
   ]
  },
  {
   "cell_type": "code",
   "execution_count": 34,
   "metadata": {},
   "outputs": [
    {
     "name": "stdout",
     "output_type": "stream",
     "text": [
      "Количество пропущенных значений в столбце: 6\n"
     ]
    },
    {
     "data": {
      "text/plain": [
       "<matplotlib.axes._subplots.AxesSubplot at 0x15223207908>"
      ]
     },
     "execution_count": 34,
     "metadata": {},
     "output_type": "execute_result"
    },
    {
     "data": {
      "image/png": "[encoded data removed]",
      "text/plain": [
       "<Figure size 432x288 with 1 Axes>"
      ]
     },
     "metadata": {
      "needs_background": "light"
     },
     "output_type": "display_data"
    }
   ],
   "source": [
    "# В столбце есть пропуски\n",
    "# проведение времени с друзьями (от 1 - очень мало до 5 - очень много)\n",
    "\n",
    "# Чем больше свободного времени, тем больше его с друзьями\n",
    "print('Количество пропущенных значений в столбце: {}'.format(\n",
    "    len(stud_math) - len(stud_math[stud_math['goout'] >= 0])))\n",
    "\n",
    "# Подставляем значения\n",
    "stud_math['goout'] = stud_math[['goout', 'freetime']].apply(\n",
    "    lambda row: goout_function(row), axis=1)\n",
    "\n",
    "stud_math['goout'].value_counts().plot(kind='bar',\n",
    "                                       grid=True,\n",
    "                                       colormap='coolwarm',\n",
    "                                       title='Чем больше свободного времени, тем больше его с друзьями',\n",
    "                                       legend=True)"
   ]
  },
  {
   "cell_type": "markdown",
   "metadata": {},
   "source": [
    "Чем больше свободного времени, тем больше времени проводишь с друзьями"
   ]
  },
  {
   "cell_type": "markdown",
   "metadata": {},
   "source": [
    "## Столбец - health"
   ]
  },
  {
   "cell_type": "code",
   "execution_count": 35,
   "metadata": {},
   "outputs": [
    {
     "name": "stdout",
     "output_type": "stream",
     "text": [
      "Количество пропущенных значений в столбце: 13\n"
     ]
    },
    {
     "data": {
      "text/plain": [
       "<matplotlib.axes._subplots.AxesSubplot at 0x15223280d48>"
      ]
     },
     "execution_count": 35,
     "metadata": {},
     "output_type": "execute_result"
    },
    {
     "data": {
      "image/png": "[encoded data removed]",
      "text/plain": [
       "<Figure size 432x288 with 1 Axes>"
      ]
     },
     "metadata": {
      "needs_background": "light"
     },
     "output_type": "display_data"
    }
   ],
   "source": [
    "# В столбце есть пропуски\n",
    "# текущее состояние здоровья (от 1 - очень плохо до 5 - очень хорошо)\n",
    "# Ввидим, что чем лучше отношения в семье, тем выше показатель здоровья\n",
    "print('Количество пропущенных значений в столбце: {}'.format(\n",
    "    len(stud_math) - len(stud_math[stud_math['health'] >= 0])))\n",
    "\n",
    "# Подставляем значения\n",
    "stud_math['health'] = stud_math[['health', 'famrel']].apply(\n",
    "    lambda row: goout_function(row), axis=1)\n",
    "\n",
    "stud_math['health'].value_counts().plot(kind='bar',\n",
    "                                        grid=True,\n",
    "                                        colormap='coolwarm',\n",
    "                                        title='Чем больше свободного времени, тем больше его с друзьями',\n",
    "                                        legend=True)"
   ]
  },
  {
   "cell_type": "markdown",
   "metadata": {},
   "source": [
    "Чем лучше семейные отношения, тем лучше себя чувствуешь "
   ]
  },
  {
   "cell_type": "markdown",
   "metadata": {},
   "source": [
    "## Столбец - absences"
   ]
  },
  {
   "cell_type": "code",
   "execution_count": 36,
   "metadata": {},
   "outputs": [
    {
     "name": "stdout",
     "output_type": "stream",
     "text": [
      "Количество пропущенных значений в столбце: 10\n"
     ]
    }
   ],
   "source": [
    "print('Количество пропущенных значений в столбце: {}'.format(\n",
    "    len(stud_math) - len(stud_math[stud_math['absences'] >= 0])))\n",
    "stud_math['absences'] = stud_math['absences'].apply(\n",
    "    lambda row: absences_function(row))"
   ]
  },
  {
   "cell_type": "code",
   "execution_count": 37,
   "metadata": {},
   "outputs": [],
   "source": [
    "# Удалим выбросы\n",
    "stud_math = stud_math[stud_math['absences'] < 100]"
   ]
  },
  {
   "cell_type": "code",
   "execution_count": 38,
   "metadata": {},
   "outputs": [
    {
     "data": {
      "text/plain": [
       "count    347.000000\n",
       "mean       6.270893\n",
       "std        8.220680\n",
       "min        0.000000\n",
       "25%        2.000000\n",
       "50%        4.000000\n",
       "75%        8.000000\n",
       "max       75.000000\n",
       "Name: absences, dtype: float64"
      ]
     },
     "execution_count": 38,
     "metadata": {},
     "output_type": "execute_result"
    },
    {
     "data": {
      "image/png": "[encoded data removed]",
      "text/plain": [
       "<Figure size 432x288 with 1 Axes>"
      ]
     },
     "metadata": {
      "needs_background": "light"
     },
     "output_type": "display_data"
    }
   ],
   "source": [
    "# В столбце есть пропуски\n",
    "# количество пропущенных занятий\n",
    "stud_math['absences'].hist()\n",
    "stud_math['absences'].describe()"
   ]
  },
  {
   "cell_type": "code",
   "execution_count": 39,
   "metadata": {},
   "outputs": [
    {
     "name": "stdout",
     "output_type": "stream",
     "text": [
      "25-й перцентиль: 2.0, 75-й перцентиль: 8.0, IQR: 6.0,  Границы выбросов: [-7.0, 17.0].\n"
     ]
    },
    {
     "data": {
      "text/plain": [
       "<matplotlib.legend.Legend at 0x15223264bc8>"
      ]
     },
     "execution_count": 39,
     "metadata": {},
     "output_type": "execute_result"
    },
    {
     "data": {
      "image/png": "[encoded data removed]",
      "text/plain": [
       "<Figure size 432x288 with 1 Axes>"
      ]
     },
     "metadata": {
      "needs_background": "light"
     },
     "output_type": "display_data"
    }
   ],
   "source": [
    "median = stud_math['absences'].median()\n",
    "IQR = stud_math['absences'].quantile(\n",
    "    0.75) - stud_math['absences'].quantile(0.25)\n",
    "perc25 = stud_math['absences'].quantile(0.25)\n",
    "perc75 = stud_math['absences'].quantile(0.75)\n",
    "print('25-й перцентиль: {},'.format(perc25), '75-й перцентиль: {},'.format(perc75),\n",
    "      \"IQR: {}, \".format(IQR), \"Границы выбросов: [{f}, {l}].\".format(f=perc25 - 1.5*IQR, l=perc75 + 1.5*IQR))\n",
    "stud_math['absences'].loc[stud_math['absences'].between(perc25 - 1.5*IQR, perc75 + 1.5*IQR)].hist(bins=10, range=(0, 10),\n",
    "                                                                                                  label='IQR')\n",
    "plt.legend()"
   ]
  },
  {
   "cell_type": "markdown",
   "metadata": {},
   "source": [
    "Данный столбец не коррелируется с остальными данными, поэтому для заполнения пропусков использовал среднее значение "
   ]
  },
  {
   "cell_type": "markdown",
   "metadata": {},
   "source": [
    "## Корреляционный анализ"
   ]
  },
  {
   "cell_type": "code",
   "execution_count": 40,
   "metadata": {},
   "outputs": [
    {
     "data": {
      "text/html": [
       "<div>\n",
       "<style scoped>\n",
       "    .dataframe tbody tr th:only-of-type {\n",
       "        vertical-align: middle;\n",
       "    }\n",
       "\n",
       "    .dataframe tbody tr th {\n",
       "        vertical-align: top;\n",
       "    }\n",
       "\n",
       "    .dataframe thead th {\n",
       "        text-align: right;\n",
       "    }\n",
       "</style>\n",
       "<table border=\"1\" class=\"dataframe\">\n",
       "  <thead>\n",
       "    <tr style=\"text-align: right;\">\n",
       "      <th></th>\n",
       "      <th>age</th>\n",
       "      <th>medu</th>\n",
       "      <th>fedu</th>\n",
       "      <th>traveltime</th>\n",
       "      <th>studytime</th>\n",
       "      <th>failures</th>\n",
       "      <th>famrel</th>\n",
       "      <th>freetime</th>\n",
       "      <th>goout</th>\n",
       "      <th>health</th>\n",
       "      <th>absences</th>\n",
       "      <th>score</th>\n",
       "    </tr>\n",
       "  </thead>\n",
       "  <tbody>\n",
       "    <tr>\n",
       "      <th>age</th>\n",
       "      <td>1.000000</td>\n",
       "      <td>-0.130229</td>\n",
       "      <td>-0.108860</td>\n",
       "      <td>0.110449</td>\n",
       "      <td>0.002251</td>\n",
       "      <td>0.097085</td>\n",
       "      <td>0.036104</td>\n",
       "      <td>-0.046939</td>\n",
       "      <td>0.095661</td>\n",
       "      <td>-0.038418</td>\n",
       "      <td>0.201262</td>\n",
       "      <td>-0.116417</td>\n",
       "    </tr>\n",
       "    <tr>\n",
       "      <th>medu</th>\n",
       "      <td>-0.130229</td>\n",
       "      <td>1.000000</td>\n",
       "      <td>0.602957</td>\n",
       "      <td>-0.150393</td>\n",
       "      <td>0.061674</td>\n",
       "      <td>-0.135417</td>\n",
       "      <td>-0.000333</td>\n",
       "      <td>0.025149</td>\n",
       "      <td>0.061983</td>\n",
       "      <td>-0.040182</td>\n",
       "      <td>0.075563</td>\n",
       "      <td>0.187086</td>\n",
       "    </tr>\n",
       "    <tr>\n",
       "      <th>fedu</th>\n",
       "      <td>-0.108860</td>\n",
       "      <td>0.602957</td>\n",
       "      <td>1.000000</td>\n",
       "      <td>-0.159759</td>\n",
       "      <td>-0.023306</td>\n",
       "      <td>-0.178372</td>\n",
       "      <td>-0.008172</td>\n",
       "      <td>-0.000654</td>\n",
       "      <td>0.056646</td>\n",
       "      <td>0.003848</td>\n",
       "      <td>0.037824</td>\n",
       "      <td>0.122320</td>\n",
       "    </tr>\n",
       "    <tr>\n",
       "      <th>traveltime</th>\n",
       "      <td>0.110449</td>\n",
       "      <td>-0.150393</td>\n",
       "      <td>-0.159759</td>\n",
       "      <td>1.000000</td>\n",
       "      <td>-0.076266</td>\n",
       "      <td>0.093146</td>\n",
       "      <td>-0.059230</td>\n",
       "      <td>-0.004950</td>\n",
       "      <td>0.027283</td>\n",
       "      <td>0.038787</td>\n",
       "      <td>-0.013800</td>\n",
       "      <td>-0.079397</td>\n",
       "    </tr>\n",
       "    <tr>\n",
       "      <th>studytime</th>\n",
       "      <td>0.002251</td>\n",
       "      <td>0.061674</td>\n",
       "      <td>-0.023306</td>\n",
       "      <td>-0.076266</td>\n",
       "      <td>1.000000</td>\n",
       "      <td>-0.161212</td>\n",
       "      <td>0.029000</td>\n",
       "      <td>-0.159713</td>\n",
       "      <td>-0.034011</td>\n",
       "      <td>-0.089947</td>\n",
       "      <td>-0.061635</td>\n",
       "      <td>0.146057</td>\n",
       "    </tr>\n",
       "    <tr>\n",
       "      <th>failures</th>\n",
       "      <td>0.097085</td>\n",
       "      <td>-0.135417</td>\n",
       "      <td>-0.178372</td>\n",
       "      <td>0.093146</td>\n",
       "      <td>-0.161212</td>\n",
       "      <td>1.000000</td>\n",
       "      <td>0.099477</td>\n",
       "      <td>0.065231</td>\n",
       "      <td>0.040045</td>\n",
       "      <td>0.091628</td>\n",
       "      <td>0.116170</td>\n",
       "      <td>-0.193855</td>\n",
       "    </tr>\n",
       "    <tr>\n",
       "      <th>famrel</th>\n",
       "      <td>0.036104</td>\n",
       "      <td>-0.000333</td>\n",
       "      <td>-0.008172</td>\n",
       "      <td>-0.059230</td>\n",
       "      <td>0.029000</td>\n",
       "      <td>0.099477</td>\n",
       "      <td>1.000000</td>\n",
       "      <td>0.158486</td>\n",
       "      <td>0.030679</td>\n",
       "      <td>0.132069</td>\n",
       "      <td>-0.095351</td>\n",
       "      <td>0.031771</td>\n",
       "    </tr>\n",
       "    <tr>\n",
       "      <th>freetime</th>\n",
       "      <td>-0.046939</td>\n",
       "      <td>0.025149</td>\n",
       "      <td>-0.000654</td>\n",
       "      <td>-0.004950</td>\n",
       "      <td>-0.159713</td>\n",
       "      <td>0.065231</td>\n",
       "      <td>0.158486</td>\n",
       "      <td>1.000000</td>\n",
       "      <td>0.303193</td>\n",
       "      <td>0.099728</td>\n",
       "      <td>-0.078006</td>\n",
       "      <td>-0.028989</td>\n",
       "    </tr>\n",
       "    <tr>\n",
       "      <th>goout</th>\n",
       "      <td>0.095661</td>\n",
       "      <td>0.061983</td>\n",
       "      <td>0.056646</td>\n",
       "      <td>0.027283</td>\n",
       "      <td>-0.034011</td>\n",
       "      <td>0.040045</td>\n",
       "      <td>0.030679</td>\n",
       "      <td>0.303193</td>\n",
       "      <td>1.000000</td>\n",
       "      <td>-0.002560</td>\n",
       "      <td>0.029190</td>\n",
       "      <td>-0.162424</td>\n",
       "    </tr>\n",
       "    <tr>\n",
       "      <th>health</th>\n",
       "      <td>-0.038418</td>\n",
       "      <td>-0.040182</td>\n",
       "      <td>0.003848</td>\n",
       "      <td>0.038787</td>\n",
       "      <td>-0.089947</td>\n",
       "      <td>0.091628</td>\n",
       "      <td>0.132069</td>\n",
       "      <td>0.099728</td>\n",
       "      <td>-0.002560</td>\n",
       "      <td>1.000000</td>\n",
       "      <td>-0.016901</td>\n",
       "      <td>-0.083194</td>\n",
       "    </tr>\n",
       "    <tr>\n",
       "      <th>absences</th>\n",
       "      <td>0.201262</td>\n",
       "      <td>0.075563</td>\n",
       "      <td>0.037824</td>\n",
       "      <td>-0.013800</td>\n",
       "      <td>-0.061635</td>\n",
       "      <td>0.116170</td>\n",
       "      <td>-0.095351</td>\n",
       "      <td>-0.078006</td>\n",
       "      <td>0.029190</td>\n",
       "      <td>-0.016901</td>\n",
       "      <td>1.000000</td>\n",
       "      <td>-0.209007</td>\n",
       "    </tr>\n",
       "    <tr>\n",
       "      <th>score</th>\n",
       "      <td>-0.116417</td>\n",
       "      <td>0.187086</td>\n",
       "      <td>0.122320</td>\n",
       "      <td>-0.079397</td>\n",
       "      <td>0.146057</td>\n",
       "      <td>-0.193855</td>\n",
       "      <td>0.031771</td>\n",
       "      <td>-0.028989</td>\n",
       "      <td>-0.162424</td>\n",
       "      <td>-0.083194</td>\n",
       "      <td>-0.209007</td>\n",
       "      <td>1.000000</td>\n",
       "    </tr>\n",
       "  </tbody>\n",
       "</table>\n",
       "</div>"
      ],
      "text/plain": [
       "                 age      medu      fedu  traveltime  studytime  failures  \\\n",
       "age         1.000000 -0.130229 -0.108860    0.110449   0.002251  0.097085   \n",
       "medu       -0.130229  1.000000  0.602957   -0.150393   0.061674 -0.135417   \n",
       "fedu       -0.108860  0.602957  1.000000   -0.159759  -0.023306 -0.178372   \n",
       "traveltime  0.110449 -0.150393 -0.159759    1.000000  -0.076266  0.093146   \n",
       "studytime   0.002251  0.061674 -0.023306   -0.076266   1.000000 -0.161212   \n",
       "failures    0.097085 -0.135417 -0.178372    0.093146  -0.161212  1.000000   \n",
       "famrel      0.036104 -0.000333 -0.008172   -0.059230   0.029000  0.099477   \n",
       "freetime   -0.046939  0.025149 -0.000654   -0.004950  -0.159713  0.065231   \n",
       "goout       0.095661  0.061983  0.056646    0.027283  -0.034011  0.040045   \n",
       "health     -0.038418 -0.040182  0.003848    0.038787  -0.089947  0.091628   \n",
       "absences    0.201262  0.075563  0.037824   -0.013800  -0.061635  0.116170   \n",
       "score      -0.116417  0.187086  0.122320   -0.079397   0.146057 -0.193855   \n",
       "\n",
       "              famrel  freetime     goout    health  absences     score  \n",
       "age         0.036104 -0.046939  0.095661 -0.038418  0.201262 -0.116417  \n",
       "medu       -0.000333  0.025149  0.061983 -0.040182  0.075563  0.187086  \n",
       "fedu       -0.008172 -0.000654  0.056646  0.003848  0.037824  0.122320  \n",
       "traveltime -0.059230 -0.004950  0.027283  0.038787 -0.013800 -0.079397  \n",
       "studytime   0.029000 -0.159713 -0.034011 -0.089947 -0.061635  0.146057  \n",
       "failures    0.099477  0.065231  0.040045  0.091628  0.116170 -0.193855  \n",
       "famrel      1.000000  0.158486  0.030679  0.132069 -0.095351  0.031771  \n",
       "freetime    0.158486  1.000000  0.303193  0.099728 -0.078006 -0.028989  \n",
       "goout       0.030679  0.303193  1.000000 -0.002560  0.029190 -0.162424  \n",
       "health      0.132069  0.099728 -0.002560  1.000000 -0.016901 -0.083194  \n",
       "absences   -0.095351 -0.078006  0.029190 -0.016901  1.000000 -0.209007  \n",
       "score       0.031771 -0.028989 -0.162424 -0.083194 -0.209007  1.000000  "
      ]
     },
     "execution_count": 40,
     "metadata": {},
     "output_type": "execute_result"
    }
   ],
   "source": [
    "# Используем для наглядности матрицу корреляций:\n",
    "stud_math.corr()"
   ]
  },
  {
   "cell_type": "markdown",
   "metadata": {},
   "source": [
    "## Анализ номинативных переменных"
   ]
  },
  {
   "cell_type": "code",
   "execution_count": 41,
   "metadata": {},
   "outputs": [
    {
     "data": {
      "image/png": "[encoded data removed]",
      "text/plain": [
       "<Figure size 360x288 with 1 Axes>"
      ]
     },
     "metadata": {
      "needs_background": "light"
     },
     "output_type": "display_data"
    },
    {
     "data": {
      "image/png": "[encoded data removed]",
      "text/plain": [
       "<Figure size 360x288 with 1 Axes>"
      ]
     },
     "metadata": {
      "needs_background": "light"
     },
     "output_type": "display_data"
    },
    {
     "data": {
      "image/png": "[encoded data removed]",
      "text/plain": [
       "<Figure size 360x288 with 1 Axes>"
      ]
     },
     "metadata": {
      "needs_background": "light"
     },
     "output_type": "display_data"
    },
    {
     "data": {
      "image/png": "[encoded data removed]",
      "text/plain": [
       "<Figure size 360x288 with 1 Axes>"
      ]
     },
     "metadata": {
      "needs_background": "light"
     },
     "output_type": "display_data"
    },
    {
     "data": {
      "image/png": "[encoded data removed]",
      "text/plain": [
       "<Figure size 360x288 with 1 Axes>"
      ]
     },
     "metadata": {
      "needs_background": "light"
     },
     "output_type": "display_data"
    },
    {
     "data": {
      "image/png": "[encoded data removed]",
      "text/plain": [
       "<Figure size 360x288 with 1 Axes>"
      ]
     },
     "metadata": {
      "needs_background": "light"
     },
     "output_type": "display_data"
    },
    {
     "data": {
      "image/png": "[encoded data removed]",
      "text/plain": [
       "<Figure size 360x288 with 1 Axes>"
      ]
     },
     "metadata": {
      "needs_background": "light"
     },
     "output_type": "display_data"
    },
    {
     "data": {
      "image/png": "[encoded data removed]",
      "text/plain": [
       "<Figure size 360x288 with 1 Axes>"
      ]
     },
     "metadata": {
      "needs_background": "light"
     },
     "output_type": "display_data"
    },
    {
     "data": {
      "image/png": "[encoded data removed]",
      "text/plain": [
       "<Figure size 360x288 with 1 Axes>"
      ]
     },
     "metadata": {
      "needs_background": "light"
     },
     "output_type": "display_data"
    },
    {
     "data": {
      "image/png": "[encoded data removed]",
      "text/plain": [
       "<Figure size 360x288 with 1 Axes>"
      ]
     },
     "metadata": {
      "needs_background": "light"
     },
     "output_type": "display_data"
    },
    {
     "data": {
      "image/png": "[encoded data removed]",
      "text/plain": [
       "<Figure size 360x288 with 1 Axes>"
      ]
     },
     "metadata": {
      "needs_background": "light"
     },
     "output_type": "display_data"
    },
    {
     "data": {
      "image/png": "[encoded data removed]",
      "text/plain": [
       "<Figure size 360x288 with 1 Axes>"
      ]
     },
     "metadata": {
      "needs_background": "light"
     },
     "output_type": "display_data"
    }
   ],
   "source": [
    "for col in ['school', 'sex', 'address', 'famsize', 'pstatus', 'schoolsup', 'paid',\n",
    "           'activities', 'nursery', 'higher', 'internet', 'romantic']:\n",
    "    get_boxplot(col)"
   ]
  },
  {
   "cell_type": "markdown",
   "metadata": {},
   "source": [
    "Похоже, что пол, адрес проживания, совместное жильё родителей, дополнительная образовательная поддержка и желание получить высшее образование влияют на баллы госэкзамена по математике"
   ]
  },
  {
   "cell_type": "code",
   "execution_count": 42,
   "metadata": {},
   "outputs": [
    {
     "data": {
      "image/png": "[encoded data removed]",
      "text/plain": [
       "<Figure size 360x288 with 1 Axes>"
      ]
     },
     "metadata": {
      "needs_background": "light"
     },
     "output_type": "display_data"
    },
    {
     "data": {
      "image/png": "[encoded data removed]",
      "text/plain": [
       "<Figure size 360x288 with 1 Axes>"
      ]
     },
     "metadata": {
      "needs_background": "light"
     },
     "output_type": "display_data"
    },
    {
     "data": {
      "image/png": "[encoded data removed]",
      "text/plain": [
       "<Figure size 360x288 with 1 Axes>"
      ]
     },
     "metadata": {
      "needs_background": "light"
     },
     "output_type": "display_data"
    },
    {
     "data": {
      "image/png": "[encoded data removed]",
      "text/plain": [
       "<Figure size 360x288 with 1 Axes>"
      ]
     },
     "metadata": {
      "needs_background": "light"
     },
     "output_type": "display_data"
    }
   ],
   "source": [
    "for col in ['mjob', 'fjob', 'reason', 'guardian']:\n",
    "    get_boxplot(col)"
   ]
  },
  {
   "cell_type": "markdown",
   "metadata": {},
   "source": [
    "Так же на баллы госэкзамена по математике влияет работа родителей"
   ]
  },
  {
   "cell_type": "code",
   "execution_count": 43,
   "metadata": {},
   "outputs": [
    {
     "name": "stderr",
     "output_type": "stream",
     "text": [
      "C:\\Users\\stone\\anaconda3\\lib\\site-packages\\numpy\\core\\fromnumeric.py:3584: RuntimeWarning: Degrees of freedom <= 0 for slice\n",
      "  **kwargs)\n",
      "C:\\Users\\stone\\anaconda3\\lib\\site-packages\\numpy\\core\\_methods.py:209: RuntimeWarning: invalid value encountered in double_scalars\n",
      "  ret = ret.dtype.type(ret / rcount)\n",
      "C:\\Users\\stone\\anaconda3\\lib\\site-packages\\scipy\\stats\\_distn_infrastructure.py:903: RuntimeWarning: invalid value encountered in greater\n",
      "  return (a < x) & (x < b)\n",
      "C:\\Users\\stone\\anaconda3\\lib\\site-packages\\scipy\\stats\\_distn_infrastructure.py:903: RuntimeWarning: invalid value encountered in less\n",
      "  return (a < x) & (x < b)\n",
      "C:\\Users\\stone\\anaconda3\\lib\\site-packages\\scipy\\stats\\_distn_infrastructure.py:1912: RuntimeWarning: invalid value encountered in less_equal\n",
      "  cond2 = cond0 & (x <= _a)\n"
     ]
    },
    {
     "name": "stdout",
     "output_type": "stream",
     "text": [
      "Найдены статистически значимые различия для колонки age\n",
      "Найдены статистически значимые различия для колонки medu\n",
      "Найдены статистически значимые различия для колонки fedu\n",
      "Найдены статистически значимые различия для колонки studytime\n",
      "Найдены статистически значимые различия для колонки failures\n",
      "Найдены статистически значимые различия для колонки goout\n",
      "Найдены статистически значимые различия для колонки sex\n",
      "Найдены статистически значимые различия для колонки address\n",
      "Найдены статистически значимые различия для колонки schoolsup\n",
      "Найдены статистически значимые различия для колонки mjob\n",
      "Найдены статистически значимые различия для колонки fjob\n"
     ]
    }
   ],
   "source": [
    "for col in ['age', 'medu', 'fedu', 'traveltime', 'studytime', 'failures', 'famsup', 'famrel', 'freetime', 'goout', 'health', 'absences', 'school', 'sex', 'address', 'famsize', 'pstatus', 'schoolsup', 'paid', 'activities', 'nursery', 'higher', 'internet', 'romantic', 'mjob', 'fjob', 'reason', 'guardian']:\n",
    "    get_stat_dif(col)"
   ]
  },
  {
   "cell_type": "markdown",
   "metadata": {},
   "source": [
    "Как мы видим, серьёзно отличаются одинадцать параметров: age,  medu, fedu, failures, goout, studytime, sex, schoolsup, mjob, fjob, address и company_location. Оставим эти переменные в датасете для дальнейшего построения модели. Итак, в нашем случае важные переменные, которые, возможно, оказывают влияние на оценку,"
   ]
  },
  {
   "cell_type": "code",
   "execution_count": 44,
   "metadata": {},
   "outputs": [
    {
     "data": {
      "text/html": [
       "<div>\n",
       "<style scoped>\n",
       "    .dataframe tbody tr th:only-of-type {\n",
       "        vertical-align: middle;\n",
       "    }\n",
       "\n",
       "    .dataframe tbody tr th {\n",
       "        vertical-align: top;\n",
       "    }\n",
       "\n",
       "    .dataframe thead th {\n",
       "        text-align: right;\n",
       "    }\n",
       "</style>\n",
       "<table border=\"1\" class=\"dataframe\">\n",
       "  <thead>\n",
       "    <tr style=\"text-align: right;\">\n",
       "      <th></th>\n",
       "      <th>medu</th>\n",
       "      <th>fedu</th>\n",
       "      <th>studytime</th>\n",
       "      <th>failures</th>\n",
       "      <th>famsup</th>\n",
       "      <th>goout</th>\n",
       "      <th>address</th>\n",
       "      <th>schoolsup</th>\n",
       "      <th>mjob</th>\n",
       "      <th>fjob</th>\n",
       "      <th>score</th>\n",
       "    </tr>\n",
       "  </thead>\n",
       "  <tbody>\n",
       "    <tr>\n",
       "      <th>0</th>\n",
       "      <td>4.0</td>\n",
       "      <td>4.0</td>\n",
       "      <td>2.0</td>\n",
       "      <td>0.0</td>\n",
       "      <td>no</td>\n",
       "      <td>4.0</td>\n",
       "      <td>U</td>\n",
       "      <td>yes</td>\n",
       "      <td>at_home</td>\n",
       "      <td>teacher</td>\n",
       "      <td>30.0</td>\n",
       "    </tr>\n",
       "    <tr>\n",
       "      <th>1</th>\n",
       "      <td>1.0</td>\n",
       "      <td>1.0</td>\n",
       "      <td>2.0</td>\n",
       "      <td>0.0</td>\n",
       "      <td>yes</td>\n",
       "      <td>3.0</td>\n",
       "      <td>U</td>\n",
       "      <td>no</td>\n",
       "      <td>at_home</td>\n",
       "      <td>other</td>\n",
       "      <td>30.0</td>\n",
       "    </tr>\n",
       "    <tr>\n",
       "      <th>2</th>\n",
       "      <td>1.0</td>\n",
       "      <td>1.0</td>\n",
       "      <td>2.0</td>\n",
       "      <td>3.0</td>\n",
       "      <td>no</td>\n",
       "      <td>2.0</td>\n",
       "      <td>U</td>\n",
       "      <td>yes</td>\n",
       "      <td>at_home</td>\n",
       "      <td>other</td>\n",
       "      <td>50.0</td>\n",
       "    </tr>\n",
       "    <tr>\n",
       "      <th>3</th>\n",
       "      <td>4.0</td>\n",
       "      <td>2.0</td>\n",
       "      <td>3.0</td>\n",
       "      <td>0.0</td>\n",
       "      <td>yes</td>\n",
       "      <td>2.0</td>\n",
       "      <td>U</td>\n",
       "      <td>no</td>\n",
       "      <td>health</td>\n",
       "      <td>at_home</td>\n",
       "      <td>75.0</td>\n",
       "    </tr>\n",
       "    <tr>\n",
       "      <th>4</th>\n",
       "      <td>3.0</td>\n",
       "      <td>3.0</td>\n",
       "      <td>2.0</td>\n",
       "      <td>0.0</td>\n",
       "      <td>yes</td>\n",
       "      <td>2.0</td>\n",
       "      <td>U</td>\n",
       "      <td>no</td>\n",
       "      <td>other</td>\n",
       "      <td>other</td>\n",
       "      <td>50.0</td>\n",
       "    </tr>\n",
       "  </tbody>\n",
       "</table>\n",
       "</div>"
      ],
      "text/plain": [
       "   medu  fedu  studytime  failures famsup  goout address schoolsup     mjob  \\\n",
       "0   4.0   4.0        2.0       0.0     no    4.0       U       yes  at_home   \n",
       "1   1.0   1.0        2.0       0.0    yes    3.0       U        no  at_home   \n",
       "2   1.0   1.0        2.0       3.0     no    2.0       U       yes  at_home   \n",
       "3   4.0   2.0        3.0       0.0    yes    2.0       U        no   health   \n",
       "4   3.0   3.0        2.0       0.0    yes    2.0       U        no    other   \n",
       "\n",
       "      fjob  score  \n",
       "0  teacher   30.0  \n",
       "1    other   30.0  \n",
       "2    other   50.0  \n",
       "3  at_home   75.0  \n",
       "4    other   50.0  "
      ]
     },
     "execution_count": 44,
     "metadata": {},
     "output_type": "execute_result"
    }
   ],
   "source": [
    "stud_math_model = stud_math.loc[:, ['medu', 'fedu', 'studytime', 'failures',\n",
    "                                    'famsup', 'goout', 'address', 'schoolsup', 'mjob', 'fjob', 'score']]\n",
    "stud_math_model.head()"
   ]
  },
  {
   "cell_type": "markdown",
   "metadata": {},
   "source": [
    "## Выводы"
   ]
  },
  {
   "cell_type": "markdown",
   "metadata": {},
   "source": [
    "Итак, в результате EDA для анализа влияния параметров успешной сдачи госэкзамена по математике были получены следующие выводы:\n",
    "* Данные содержат довольно большое количество пропусков\n",
    "* Образование родителе, чем выше образование, тем больше шансов сдать экзамен\n",
    "* Количество внеучебных занятий после школы\n",
    "* Семейная образовательная поддержка\n",
    "* Место проживания\n",
    "* Самые важные параметры, которые предлагается использовать в дальнейшем для построения модели: 'medu', 'fedu', 'studytime', 'failures', 'famsup', 'goout', 'address', 'schoolsup', 'mjob', 'fjob', 'score'"
   ]
  },
  {
   "cell_type": "code",
   "execution_count": null,
   "metadata": {},
   "outputs": [],
   "source": []
  }
 ],
 "metadata": {
  "kernelspec": {
   "display_name": "Python 3",
   "language": "python",
   "name": "python3"
  },
  "language_info": {
   "codemirror_mode": {
    "name": "ipython",
    "version": 3
   },
   "file_extension": ".py",
   "mimetype": "text/x-python",
   "name": "python",
   "nbconvert_exporter": "python",
   "pygments_lexer": "ipython3",
   "version": "3.7.6"
  }
 },
 "nbformat": 4,
 "nbformat_minor": 4
}
